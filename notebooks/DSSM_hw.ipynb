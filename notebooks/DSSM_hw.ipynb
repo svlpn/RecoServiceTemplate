{
 "cells": [
  {
   "cell_type": "code",
   "execution_count": null,
   "id": "a6e5fc4a",
   "metadata": {},
   "outputs": [],
   "source": [
    "import ast\n",
    "import json\n",
    "import matplotlib.pyplot as plt\n",
    "import numpy as np\n",
    "import os\n",
    "import pandas as pd\n",
    "import pickle\n",
    "import tensorflow as tf\n",
    "import tensorflow.keras.backend as K\n",
    "import warnings\n",
    "warnings.filterwarnings('ignore')\n",
    "\n",
    "from collections import Counter\n",
    "from random import randint, random\n",
    "from scipy.sparse import coo_matrix, hstack\n",
    "from sklearn.metrics.pairwise import euclidean_distances, cosine_distances, cosine_similarity\n",
    "from tensorflow import keras\n",
    "from tqdm import tqdm"
   ]
  },
  {
   "cell_type": "markdown",
   "id": "76d467a9",
   "metadata": {
    "id": "0ce80627"
   },
   "source": [
    "## Считаем препроцессные данные из прошлого ноутбучка"
   ]
  },
  {
   "cell_type": "code",
   "execution_count": 19,
   "id": "63ce7096",
   "metadata": {
    "ExecuteTime": {
     "end_time": "2021-10-28T18:39:51.661446Z",
     "start_time": "2021-10-28T18:39:51.563879Z"
    },
    "execution": {
     "iopub.execute_input": "2023-12-12T14:03:31.276629Z",
     "iopub.status.busy": "2023-12-12T14:03:31.275900Z",
     "iopub.status.idle": "2023-12-12T14:03:35.794074Z",
     "shell.execute_reply": "2023-12-12T14:03:35.793269Z",
     "shell.execute_reply.started": "2023-12-12T14:03:31.276592Z"
    },
    "id": "25508632"
   },
   "outputs": [],
   "source": [
    "interactions_df = pd.read_csv('/kaggle/input/processed/interactions_processed_kion.csv')\n",
    "users_df = pd.read_csv('/kaggle/input/processed/users_processed_kion.csv')\n",
    "items_df = pd.read_csv('/kaggle/input/processed/items_processed_kion.csv')"
   ]
  },
  {
   "cell_type": "code",
   "execution_count": 20,
   "id": "6912bc9b",
   "metadata": {
    "ExecuteTime": {
     "end_time": "2021-10-28T18:40:35.447336Z",
     "start_time": "2021-10-28T18:40:35.434541Z"
    },
    "colab": {
     "base_uri": "https://localhost:8080/",
     "height": 206
    },
    "execution": {
     "iopub.execute_input": "2023-12-12T14:03:35.795980Z",
     "iopub.status.busy": "2023-12-12T14:03:35.795665Z",
     "iopub.status.idle": "2023-12-12T14:03:35.807145Z",
     "shell.execute_reply": "2023-12-12T14:03:35.806239Z",
     "shell.execute_reply.started": "2023-12-12T14:03:35.795952Z"
    },
    "id": "f5eacb31",
    "outputId": "37b5c35b-4f4b-48ea-9012-a6ce7eed31c7"
   },
   "outputs": [
    {
     "data": {
      "text/html": [
       "<div>\n",
       "<style scoped>\n",
       "    .dataframe tbody tr th:only-of-type {\n",
       "        vertical-align: middle;\n",
       "    }\n",
       "\n",
       "    .dataframe tbody tr th {\n",
       "        vertical-align: top;\n",
       "    }\n",
       "\n",
       "    .dataframe thead th {\n",
       "        text-align: right;\n",
       "    }\n",
       "</style>\n",
       "<table border=\"1\" class=\"dataframe\">\n",
       "  <thead>\n",
       "    <tr style=\"text-align: right;\">\n",
       "      <th></th>\n",
       "      <th>user_id</th>\n",
       "      <th>age</th>\n",
       "      <th>income</th>\n",
       "      <th>sex</th>\n",
       "      <th>kids_flg</th>\n",
       "    </tr>\n",
       "  </thead>\n",
       "  <tbody>\n",
       "    <tr>\n",
       "      <th>0</th>\n",
       "      <td>973171</td>\n",
       "      <td>age_25_34</td>\n",
       "      <td>income_60_90</td>\n",
       "      <td>M</td>\n",
       "      <td>True</td>\n",
       "    </tr>\n",
       "    <tr>\n",
       "      <th>1</th>\n",
       "      <td>962099</td>\n",
       "      <td>age_18_24</td>\n",
       "      <td>income_20_40</td>\n",
       "      <td>M</td>\n",
       "      <td>False</td>\n",
       "    </tr>\n",
       "    <tr>\n",
       "      <th>2</th>\n",
       "      <td>1047345</td>\n",
       "      <td>age_45_54</td>\n",
       "      <td>income_40_60</td>\n",
       "      <td>F</td>\n",
       "      <td>False</td>\n",
       "    </tr>\n",
       "    <tr>\n",
       "      <th>3</th>\n",
       "      <td>721985</td>\n",
       "      <td>age_45_54</td>\n",
       "      <td>income_20_40</td>\n",
       "      <td>F</td>\n",
       "      <td>False</td>\n",
       "    </tr>\n",
       "    <tr>\n",
       "      <th>4</th>\n",
       "      <td>704055</td>\n",
       "      <td>age_35_44</td>\n",
       "      <td>income_60_90</td>\n",
       "      <td>F</td>\n",
       "      <td>False</td>\n",
       "    </tr>\n",
       "  </tbody>\n",
       "</table>\n",
       "</div>"
      ],
      "text/plain": [
       "   user_id        age        income sex  kids_flg\n",
       "0   973171  age_25_34  income_60_90   M      True\n",
       "1   962099  age_18_24  income_20_40   M     False\n",
       "2  1047345  age_45_54  income_40_60   F     False\n",
       "3   721985  age_45_54  income_20_40   F     False\n",
       "4   704055  age_35_44  income_60_90   F     False"
      ]
     },
     "execution_count": 20,
     "metadata": {},
     "output_type": "execute_result"
    }
   ],
   "source": [
    "users_df.head()"
   ]
  },
  {
   "cell_type": "code",
   "execution_count": 21,
   "id": "30a7c8ec",
   "metadata": {
    "ExecuteTime": {
     "end_time": "2021-10-28T18:40:36.103997Z",
     "start_time": "2021-10-28T18:40:36.094699Z"
    },
    "execution": {
     "iopub.execute_input": "2023-12-12T14:03:35.808732Z",
     "iopub.status.busy": "2023-12-12T14:03:35.808368Z",
     "iopub.status.idle": "2023-12-12T14:03:35.819192Z",
     "shell.execute_reply": "2023-12-12T14:03:35.818440Z",
     "shell.execute_reply.started": "2023-12-12T14:03:35.808704Z"
    },
    "id": "61669d0d"
   },
   "outputs": [],
   "source": [
    "items_df = items_df.rename(columns = {'id' : 'item_id'})"
   ]
  },
  {
   "cell_type": "code",
   "execution_count": 22,
   "id": "99b41b24",
   "metadata": {
    "ExecuteTime": {
     "end_time": "2021-10-28T18:40:36.378293Z",
     "start_time": "2021-10-28T18:40:36.370946Z"
    },
    "colab": {
     "base_uri": "https://localhost:8080/",
     "height": 652
    },
    "execution": {
     "iopub.execute_input": "2023-12-12T14:03:35.821323Z",
     "iopub.status.busy": "2023-12-12T14:03:35.821002Z",
     "iopub.status.idle": "2023-12-12T14:03:35.837516Z",
     "shell.execute_reply": "2023-12-12T14:03:35.836640Z",
     "shell.execute_reply.started": "2023-12-12T14:03:35.821285Z"
    },
    "id": "25f4462e",
    "outputId": "5cc6c801-f866-4b52-aada-f5226a5ebc21"
   },
   "outputs": [
    {
     "data": {
      "text/html": [
       "<div>\n",
       "<style scoped>\n",
       "    .dataframe tbody tr th:only-of-type {\n",
       "        vertical-align: middle;\n",
       "    }\n",
       "\n",
       "    .dataframe tbody tr th {\n",
       "        vertical-align: top;\n",
       "    }\n",
       "\n",
       "    .dataframe thead th {\n",
       "        text-align: right;\n",
       "    }\n",
       "</style>\n",
       "<table border=\"1\" class=\"dataframe\">\n",
       "  <thead>\n",
       "    <tr style=\"text-align: right;\">\n",
       "      <th></th>\n",
       "      <th>item_id</th>\n",
       "      <th>content_type</th>\n",
       "      <th>title</th>\n",
       "      <th>title_orig</th>\n",
       "      <th>genres</th>\n",
       "      <th>countries</th>\n",
       "      <th>for_kids</th>\n",
       "      <th>age_rating</th>\n",
       "      <th>studios</th>\n",
       "      <th>directors</th>\n",
       "      <th>actors</th>\n",
       "      <th>description</th>\n",
       "      <th>keywords</th>\n",
       "      <th>release_year_cat</th>\n",
       "    </tr>\n",
       "  </thead>\n",
       "  <tbody>\n",
       "    <tr>\n",
       "      <th>0</th>\n",
       "      <td>10711</td>\n",
       "      <td>film</td>\n",
       "      <td>поговори с ней</td>\n",
       "      <td>Hable con ella</td>\n",
       "      <td>драмы, зарубежные, детективы, мелодрамы</td>\n",
       "      <td>испания</td>\n",
       "      <td>False</td>\n",
       "      <td>16.0</td>\n",
       "      <td>unknown</td>\n",
       "      <td>педро альмодовар</td>\n",
       "      <td>Адольфо Фернандес, Ана Фернандес, Дарио Гранди...</td>\n",
       "      <td>Мелодрама легендарного Педро Альмодовара «Пого...</td>\n",
       "      <td>Поговори, ней, 2002, Испания, друзья, любовь, ...</td>\n",
       "      <td>2000-2010</td>\n",
       "    </tr>\n",
       "    <tr>\n",
       "      <th>1</th>\n",
       "      <td>2508</td>\n",
       "      <td>film</td>\n",
       "      <td>голые перцы</td>\n",
       "      <td>Search Party</td>\n",
       "      <td>зарубежные, приключения, комедии</td>\n",
       "      <td>сша</td>\n",
       "      <td>False</td>\n",
       "      <td>16.0</td>\n",
       "      <td>unknown</td>\n",
       "      <td>скот армстронг</td>\n",
       "      <td>Адам Палли, Брайан Хаски, Дж.Б. Смув, Джейсон ...</td>\n",
       "      <td>Уморительная современная комедия на популярную...</td>\n",
       "      <td>Голые, перцы, 2014, США, друзья, свадьбы, прео...</td>\n",
       "      <td>2010-2020</td>\n",
       "    </tr>\n",
       "    <tr>\n",
       "      <th>2</th>\n",
       "      <td>10716</td>\n",
       "      <td>film</td>\n",
       "      <td>тактическая сила</td>\n",
       "      <td>Tactical Force</td>\n",
       "      <td>криминал, зарубежные, триллеры, боевики, комедии</td>\n",
       "      <td>канада</td>\n",
       "      <td>False</td>\n",
       "      <td>16.0</td>\n",
       "      <td>unknown</td>\n",
       "      <td>адам п. калтраро</td>\n",
       "      <td>Адриан Холмс, Даррен Шалави, Джерри Вассерман,...</td>\n",
       "      <td>Профессиональный рестлер Стив Остин («Все или ...</td>\n",
       "      <td>Тактическая, сила, 2011, Канада, бандиты, ганг...</td>\n",
       "      <td>2010-2020</td>\n",
       "    </tr>\n",
       "    <tr>\n",
       "      <th>3</th>\n",
       "      <td>7868</td>\n",
       "      <td>film</td>\n",
       "      <td>45 лет</td>\n",
       "      <td>45 Years</td>\n",
       "      <td>драмы, зарубежные, мелодрамы</td>\n",
       "      <td>великобритания</td>\n",
       "      <td>False</td>\n",
       "      <td>16.0</td>\n",
       "      <td>unknown</td>\n",
       "      <td>эндрю хэй</td>\n",
       "      <td>Александра Риддлстон-Барретт, Джеральдин Джейм...</td>\n",
       "      <td>Шарлотта Рэмплинг, Том Кортни, Джеральдин Джей...</td>\n",
       "      <td>45, лет, 2015, Великобритания, брак, жизнь, лю...</td>\n",
       "      <td>2010-2020</td>\n",
       "    </tr>\n",
       "    <tr>\n",
       "      <th>4</th>\n",
       "      <td>16268</td>\n",
       "      <td>film</td>\n",
       "      <td>все решает мгновение</td>\n",
       "      <td>NaN</td>\n",
       "      <td>драмы, спорт, советские, мелодрамы</td>\n",
       "      <td>ссср</td>\n",
       "      <td>False</td>\n",
       "      <td>12.0</td>\n",
       "      <td>ленфильм</td>\n",
       "      <td>виктор садовский</td>\n",
       "      <td>Александр Абдулов, Александр Демьяненко, Алекс...</td>\n",
       "      <td>Расчетливая чаровница из советского кинохита «...</td>\n",
       "      <td>Все, решает, мгновение, 1978, СССР, сильные, ж...</td>\n",
       "      <td>1970-1980</td>\n",
       "    </tr>\n",
       "  </tbody>\n",
       "</table>\n",
       "</div>"
      ],
      "text/plain": [
       "   item_id content_type                 title      title_orig  \\\n",
       "0    10711         film        поговори с ней  Hable con ella   \n",
       "1     2508         film           голые перцы    Search Party   \n",
       "2    10716         film      тактическая сила  Tactical Force   \n",
       "3     7868         film                45 лет        45 Years   \n",
       "4    16268         film  все решает мгновение             NaN   \n",
       "\n",
       "                                             genres       countries  for_kids  \\\n",
       "0           драмы, зарубежные, детективы, мелодрамы         испания     False   \n",
       "1                  зарубежные, приключения, комедии             сша     False   \n",
       "2  криминал, зарубежные, триллеры, боевики, комедии          канада     False   \n",
       "3                      драмы, зарубежные, мелодрамы  великобритания     False   \n",
       "4                драмы, спорт, советские, мелодрамы            ссср     False   \n",
       "\n",
       "   age_rating   studios         directors  \\\n",
       "0        16.0   unknown  педро альмодовар   \n",
       "1        16.0   unknown    скот армстронг   \n",
       "2        16.0   unknown  адам п. калтраро   \n",
       "3        16.0   unknown         эндрю хэй   \n",
       "4        12.0  ленфильм  виктор садовский   \n",
       "\n",
       "                                              actors  \\\n",
       "0  Адольфо Фернандес, Ана Фернандес, Дарио Гранди...   \n",
       "1  Адам Палли, Брайан Хаски, Дж.Б. Смув, Джейсон ...   \n",
       "2  Адриан Холмс, Даррен Шалави, Джерри Вассерман,...   \n",
       "3  Александра Риддлстон-Барретт, Джеральдин Джейм...   \n",
       "4  Александр Абдулов, Александр Демьяненко, Алекс...   \n",
       "\n",
       "                                         description  \\\n",
       "0  Мелодрама легендарного Педро Альмодовара «Пого...   \n",
       "1  Уморительная современная комедия на популярную...   \n",
       "2  Профессиональный рестлер Стив Остин («Все или ...   \n",
       "3  Шарлотта Рэмплинг, Том Кортни, Джеральдин Джей...   \n",
       "4  Расчетливая чаровница из советского кинохита «...   \n",
       "\n",
       "                                            keywords release_year_cat  \n",
       "0  Поговори, ней, 2002, Испания, друзья, любовь, ...        2000-2010  \n",
       "1  Голые, перцы, 2014, США, друзья, свадьбы, прео...        2010-2020  \n",
       "2  Тактическая, сила, 2011, Канада, бандиты, ганг...        2010-2020  \n",
       "3  45, лет, 2015, Великобритания, брак, жизнь, лю...        2010-2020  \n",
       "4  Все, решает, мгновение, 1978, СССР, сильные, ж...        1970-1980  "
      ]
     },
     "execution_count": 22,
     "metadata": {},
     "output_type": "execute_result"
    }
   ],
   "source": [
    "items_df.head()"
   ]
  },
  {
   "cell_type": "code",
   "execution_count": 23,
   "id": "2decb6bb",
   "metadata": {
    "ExecuteTime": {
     "end_time": "2021-10-28T18:40:36.607688Z",
     "start_time": "2021-10-28T18:40:36.597640Z"
    },
    "colab": {
     "base_uri": "https://localhost:8080/",
     "height": 206
    },
    "execution": {
     "iopub.execute_input": "2023-12-12T14:03:35.838854Z",
     "iopub.status.busy": "2023-12-12T14:03:35.838557Z",
     "iopub.status.idle": "2023-12-12T14:03:35.851665Z",
     "shell.execute_reply": "2023-12-12T14:03:35.850806Z",
     "shell.execute_reply.started": "2023-12-12T14:03:35.838830Z"
    },
    "id": "b41964d3",
    "outputId": "b4c8f3d5-e7af-4e29-d2e8-0defb6993b35"
   },
   "outputs": [
    {
     "data": {
      "text/html": [
       "<div>\n",
       "<style scoped>\n",
       "    .dataframe tbody tr th:only-of-type {\n",
       "        vertical-align: middle;\n",
       "    }\n",
       "\n",
       "    .dataframe tbody tr th {\n",
       "        vertical-align: top;\n",
       "    }\n",
       "\n",
       "    .dataframe thead th {\n",
       "        text-align: right;\n",
       "    }\n",
       "</style>\n",
       "<table border=\"1\" class=\"dataframe\">\n",
       "  <thead>\n",
       "    <tr style=\"text-align: right;\">\n",
       "      <th></th>\n",
       "      <th>user_id</th>\n",
       "      <th>item_id</th>\n",
       "      <th>last_watch_dt</th>\n",
       "      <th>total_dur</th>\n",
       "      <th>watched_pct</th>\n",
       "    </tr>\n",
       "  </thead>\n",
       "  <tbody>\n",
       "    <tr>\n",
       "      <th>0</th>\n",
       "      <td>176549</td>\n",
       "      <td>9506</td>\n",
       "      <td>2021-05-11</td>\n",
       "      <td>4250</td>\n",
       "      <td>72</td>\n",
       "    </tr>\n",
       "    <tr>\n",
       "      <th>1</th>\n",
       "      <td>699317</td>\n",
       "      <td>1659</td>\n",
       "      <td>2021-05-29</td>\n",
       "      <td>8317</td>\n",
       "      <td>100</td>\n",
       "    </tr>\n",
       "    <tr>\n",
       "      <th>2</th>\n",
       "      <td>656683</td>\n",
       "      <td>7107</td>\n",
       "      <td>2021-05-09</td>\n",
       "      <td>10</td>\n",
       "      <td>0</td>\n",
       "    </tr>\n",
       "    <tr>\n",
       "      <th>3</th>\n",
       "      <td>864613</td>\n",
       "      <td>7638</td>\n",
       "      <td>2021-07-05</td>\n",
       "      <td>14483</td>\n",
       "      <td>100</td>\n",
       "    </tr>\n",
       "    <tr>\n",
       "      <th>4</th>\n",
       "      <td>964868</td>\n",
       "      <td>9506</td>\n",
       "      <td>2021-04-30</td>\n",
       "      <td>6725</td>\n",
       "      <td>100</td>\n",
       "    </tr>\n",
       "  </tbody>\n",
       "</table>\n",
       "</div>"
      ],
      "text/plain": [
       "   user_id  item_id last_watch_dt  total_dur  watched_pct\n",
       "0   176549     9506    2021-05-11       4250           72\n",
       "1   699317     1659    2021-05-29       8317          100\n",
       "2   656683     7107    2021-05-09         10            0\n",
       "3   864613     7638    2021-07-05      14483          100\n",
       "4   964868     9506    2021-04-30       6725          100"
      ]
     },
     "execution_count": 23,
     "metadata": {},
     "output_type": "execute_result"
    }
   ],
   "source": [
    "interactions_df.head()"
   ]
  },
  {
   "cell_type": "markdown",
   "id": "33348ad1",
   "metadata": {
    "id": "cd252422"
   },
   "source": [
    "## Готовим фичи пользователей"
   ]
  },
  {
   "cell_type": "markdown",
   "id": "903701cc",
   "metadata": {
    "id": "pBdccMPAr7KR"
   },
   "source": [
    "Посмотрим, какие фичи в датасете фильмов являются категориальными и закодируем их с помощью one-hot encoding."
   ]
  },
  {
   "cell_type": "code",
   "execution_count": 24,
   "id": "09e6e53a",
   "metadata": {
    "ExecuteTime": {
     "end_time": "2021-10-28T18:40:37.156260Z",
     "start_time": "2021-10-28T18:40:37.138422Z"
    },
    "colab": {
     "base_uri": "https://localhost:8080/",
     "height": 270
    },
    "execution": {
     "iopub.execute_input": "2023-12-12T14:03:41.081308Z",
     "iopub.status.busy": "2023-12-12T14:03:41.080363Z",
     "iopub.status.idle": "2023-12-12T14:03:41.421694Z",
     "shell.execute_reply": "2023-12-12T14:03:41.420639Z",
     "shell.execute_reply.started": "2023-12-12T14:03:41.081257Z"
    },
    "id": "692270ac",
    "outputId": "7491ab1f-f9fb-4921-e383-7ecf5569e999"
   },
   "outputs": [
    {
     "data": {
      "text/html": [
       "<div>\n",
       "<style scoped>\n",
       "    .dataframe tbody tr th:only-of-type {\n",
       "        vertical-align: middle;\n",
       "    }\n",
       "\n",
       "    .dataframe tbody tr th {\n",
       "        vertical-align: top;\n",
       "    }\n",
       "\n",
       "    .dataframe thead th {\n",
       "        text-align: right;\n",
       "    }\n",
       "</style>\n",
       "<table border=\"1\" class=\"dataframe\">\n",
       "  <thead>\n",
       "    <tr style=\"text-align: right;\">\n",
       "      <th></th>\n",
       "      <th>user_id</th>\n",
       "      <th>age_age_18_24</th>\n",
       "      <th>age_age_25_34</th>\n",
       "      <th>age_age_35_44</th>\n",
       "      <th>age_age_45_54</th>\n",
       "      <th>age_age_55_64</th>\n",
       "      <th>age_age_65_inf</th>\n",
       "      <th>age_age_unknown</th>\n",
       "      <th>income_income_0_20</th>\n",
       "      <th>income_income_150_inf</th>\n",
       "      <th>income_income_20_40</th>\n",
       "      <th>income_income_40_60</th>\n",
       "      <th>income_income_60_90</th>\n",
       "      <th>income_income_90_150</th>\n",
       "      <th>income_income_unknown</th>\n",
       "      <th>sex_F</th>\n",
       "      <th>sex_M</th>\n",
       "      <th>sex_sex_unknown</th>\n",
       "      <th>kids_flg_False</th>\n",
       "      <th>kids_flg_True</th>\n",
       "    </tr>\n",
       "  </thead>\n",
       "  <tbody>\n",
       "    <tr>\n",
       "      <th>0</th>\n",
       "      <td>973171</td>\n",
       "      <td>False</td>\n",
       "      <td>True</td>\n",
       "      <td>False</td>\n",
       "      <td>False</td>\n",
       "      <td>False</td>\n",
       "      <td>False</td>\n",
       "      <td>False</td>\n",
       "      <td>False</td>\n",
       "      <td>False</td>\n",
       "      <td>False</td>\n",
       "      <td>False</td>\n",
       "      <td>True</td>\n",
       "      <td>False</td>\n",
       "      <td>False</td>\n",
       "      <td>False</td>\n",
       "      <td>True</td>\n",
       "      <td>False</td>\n",
       "      <td>False</td>\n",
       "      <td>True</td>\n",
       "    </tr>\n",
       "    <tr>\n",
       "      <th>1</th>\n",
       "      <td>962099</td>\n",
       "      <td>True</td>\n",
       "      <td>False</td>\n",
       "      <td>False</td>\n",
       "      <td>False</td>\n",
       "      <td>False</td>\n",
       "      <td>False</td>\n",
       "      <td>False</td>\n",
       "      <td>False</td>\n",
       "      <td>False</td>\n",
       "      <td>True</td>\n",
       "      <td>False</td>\n",
       "      <td>False</td>\n",
       "      <td>False</td>\n",
       "      <td>False</td>\n",
       "      <td>False</td>\n",
       "      <td>True</td>\n",
       "      <td>False</td>\n",
       "      <td>True</td>\n",
       "      <td>False</td>\n",
       "    </tr>\n",
       "    <tr>\n",
       "      <th>2</th>\n",
       "      <td>1047345</td>\n",
       "      <td>False</td>\n",
       "      <td>False</td>\n",
       "      <td>False</td>\n",
       "      <td>True</td>\n",
       "      <td>False</td>\n",
       "      <td>False</td>\n",
       "      <td>False</td>\n",
       "      <td>False</td>\n",
       "      <td>False</td>\n",
       "      <td>False</td>\n",
       "      <td>True</td>\n",
       "      <td>False</td>\n",
       "      <td>False</td>\n",
       "      <td>False</td>\n",
       "      <td>True</td>\n",
       "      <td>False</td>\n",
       "      <td>False</td>\n",
       "      <td>True</td>\n",
       "      <td>False</td>\n",
       "    </tr>\n",
       "    <tr>\n",
       "      <th>3</th>\n",
       "      <td>721985</td>\n",
       "      <td>False</td>\n",
       "      <td>False</td>\n",
       "      <td>False</td>\n",
       "      <td>True</td>\n",
       "      <td>False</td>\n",
       "      <td>False</td>\n",
       "      <td>False</td>\n",
       "      <td>False</td>\n",
       "      <td>False</td>\n",
       "      <td>True</td>\n",
       "      <td>False</td>\n",
       "      <td>False</td>\n",
       "      <td>False</td>\n",
       "      <td>False</td>\n",
       "      <td>True</td>\n",
       "      <td>False</td>\n",
       "      <td>False</td>\n",
       "      <td>True</td>\n",
       "      <td>False</td>\n",
       "    </tr>\n",
       "    <tr>\n",
       "      <th>4</th>\n",
       "      <td>704055</td>\n",
       "      <td>False</td>\n",
       "      <td>False</td>\n",
       "      <td>True</td>\n",
       "      <td>False</td>\n",
       "      <td>False</td>\n",
       "      <td>False</td>\n",
       "      <td>False</td>\n",
       "      <td>False</td>\n",
       "      <td>False</td>\n",
       "      <td>False</td>\n",
       "      <td>False</td>\n",
       "      <td>True</td>\n",
       "      <td>False</td>\n",
       "      <td>False</td>\n",
       "      <td>True</td>\n",
       "      <td>False</td>\n",
       "      <td>False</td>\n",
       "      <td>True</td>\n",
       "      <td>False</td>\n",
       "    </tr>\n",
       "  </tbody>\n",
       "</table>\n",
       "</div>"
      ],
      "text/plain": [
       "   user_id  age_age_18_24  age_age_25_34  age_age_35_44  age_age_45_54  \\\n",
       "0   973171          False           True          False          False   \n",
       "1   962099           True          False          False          False   \n",
       "2  1047345          False          False          False           True   \n",
       "3   721985          False          False          False           True   \n",
       "4   704055          False          False           True          False   \n",
       "\n",
       "   age_age_55_64  age_age_65_inf  age_age_unknown  income_income_0_20  \\\n",
       "0          False           False            False               False   \n",
       "1          False           False            False               False   \n",
       "2          False           False            False               False   \n",
       "3          False           False            False               False   \n",
       "4          False           False            False               False   \n",
       "\n",
       "   income_income_150_inf  income_income_20_40  income_income_40_60  \\\n",
       "0                  False                False                False   \n",
       "1                  False                 True                False   \n",
       "2                  False                False                 True   \n",
       "3                  False                 True                False   \n",
       "4                  False                False                False   \n",
       "\n",
       "   income_income_60_90  income_income_90_150  income_income_unknown  sex_F  \\\n",
       "0                 True                 False                  False  False   \n",
       "1                False                 False                  False  False   \n",
       "2                False                 False                  False   True   \n",
       "3                False                 False                  False   True   \n",
       "4                 True                 False                  False   True   \n",
       "\n",
       "   sex_M  sex_sex_unknown  kids_flg_False  kids_flg_True  \n",
       "0   True            False           False           True  \n",
       "1   True            False            True          False  \n",
       "2  False            False            True          False  \n",
       "3  False            False            True          False  \n",
       "4  False            False            True          False  "
      ]
     },
     "execution_count": 24,
     "metadata": {},
     "output_type": "execute_result"
    }
   ],
   "source": [
    "user_cat_feats = [\"age\", \"income\", \"sex\", \"kids_flg\"]\n",
    "# из исходного датафрейма оставим только item_id - этот признак нам понадобится позже\n",
    "# для того, чтобы маппить айтемы из датафрейма с фильмами с айтемами \n",
    "# из датафрейма с взаимодействиями\n",
    "users_ohe_df = users_df.user_id\n",
    "for feat in user_cat_feats:\n",
    "    # получаем датафрейм с one-hot encoding для каждой категориальной фичи\n",
    "    ohe_feat_df = pd.get_dummies(users_df[feat], prefix=feat)\n",
    "    # конкатенируем ohe-hot датафрейм с датафреймом, \n",
    "    # который мы получили на предыдущем шаге\n",
    "    users_ohe_df = pd.concat([users_ohe_df, ohe_feat_df], axis=1)\n",
    "\n",
    "users_ohe_df.head()\n"
   ]
  },
  {
   "cell_type": "markdown",
   "id": "97794767",
   "metadata": {
    "id": "74cdbd93"
   },
   "source": [
    "## Готовим фичи айтемов"
   ]
  },
  {
   "cell_type": "markdown",
   "id": "72e5629e",
   "metadata": {
    "id": "5kHzJ91Mr35c"
   },
   "source": [
    "Кодируем их точно так же - one-hot'ом."
   ]
  },
  {
   "cell_type": "markdown",
   "id": "0204eb11",
   "metadata": {},
   "source": [
    "### Добавим текстовых признаков"
   ]
  },
  {
   "cell_type": "code",
   "execution_count": 25,
   "id": "8e7487a6",
   "metadata": {
    "execution": {
     "iopub.execute_input": "2023-12-12T14:03:46.417725Z",
     "iopub.status.busy": "2023-12-12T14:03:46.417346Z",
     "iopub.status.idle": "2023-12-12T14:03:50.730158Z",
     "shell.execute_reply": "2023-12-12T14:03:50.729199Z",
     "shell.execute_reply.started": "2023-12-12T14:03:46.417690Z"
    }
   },
   "outputs": [],
   "source": [
    "def apply_tfidf_transform(input_dataframe, feature_column, features_limit=500):\n",
    "    tfidf_creator = TfidfVectorizer(max_features=features_limit)\n",
    "    tfidf_data = tfidf_creator.fit_transform(input_dataframe[feature_column])\n",
    "    column_labels = [f'{feature_column}_feature_{idx}' for idx in range(tfidf_data.shape[1])]\n",
    "    return pd.DataFrame(tfidf_data.toarray(), columns=column_labels)"
   ]
  },
  {
   "cell_type": "code",
   "execution_count": null,
   "id": "4fbc8a7e",
   "metadata": {},
   "outputs": [],
   "source": [
    "for category in ['genres', 'keywords']:\n",
    "    transformed_data = apply_tfidf_transform(items_df, category)\n",
    "    items_ohe_df = pd.concat([items_ohe_df, transformed_data], axis=1)"
   ]
  },
  {
   "cell_type": "code",
   "execution_count": 26,
   "id": "00a32a66",
   "metadata": {
    "ExecuteTime": {
     "end_time": "2021-10-28T18:40:37.792147Z",
     "start_time": "2021-10-28T18:40:37.537501Z"
    },
    "colab": {
     "base_uri": "https://localhost:8080/",
     "height": 421
    },
    "execution": {
     "iopub.execute_input": "2023-12-12T14:04:51.446496Z",
     "iopub.status.busy": "2023-12-12T14:04:51.445784Z",
     "iopub.status.idle": "2023-12-12T14:04:52.628516Z",
     "shell.execute_reply": "2023-12-12T14:04:52.627581Z",
     "shell.execute_reply.started": "2023-12-12T14:04:51.446465Z"
    },
    "id": "7a94ef7e",
    "outputId": "1ea7a769-8c2d-43d5-f2cb-47500bc0a7ba"
   },
   "outputs": [
    {
     "data": {
      "text/html": [
       "<div>\n",
       "<style scoped>\n",
       "    .dataframe tbody tr th:only-of-type {\n",
       "        vertical-align: middle;\n",
       "    }\n",
       "\n",
       "    .dataframe tbody tr th {\n",
       "        vertical-align: top;\n",
       "    }\n",
       "\n",
       "    .dataframe thead th {\n",
       "        text-align: right;\n",
       "    }\n",
       "</style>\n",
       "<table border=\"1\" class=\"dataframe\">\n",
       "  <thead>\n",
       "    <tr style=\"text-align: right;\">\n",
       "      <th></th>\n",
       "      <th>item_id</th>\n",
       "      <th>content_type_film</th>\n",
       "      <th>content_type_series</th>\n",
       "      <th>release_year_cat_1920-1930</th>\n",
       "      <th>release_year_cat_1930-1940</th>\n",
       "      <th>release_year_cat_1940-1950</th>\n",
       "      <th>release_year_cat_1950-1960</th>\n",
       "      <th>release_year_cat_1960-1970</th>\n",
       "      <th>release_year_cat_1970-1980</th>\n",
       "      <th>release_year_cat_1980-1990</th>\n",
       "      <th>...</th>\n",
       "      <th>directors_ярив хоровиц</th>\n",
       "      <th>directors_ярон зильберман</th>\n",
       "      <th>directors_ярополк лапшин</th>\n",
       "      <th>directors_ярослав лупий</th>\n",
       "      <th>directors_ярроу чейни, скотт моужер</th>\n",
       "      <th>directors_ясина сезар</th>\n",
       "      <th>directors_ясуоми умэцу</th>\n",
       "      <th>directors_ёдзи фукуяма, ацуко фукусима, николас де креси, синъитиро ватанабэ, сёдзи кавамори</th>\n",
       "      <th>directors_ёлкин туйчиев</th>\n",
       "      <th>directors_ён сан-хо</th>\n",
       "    </tr>\n",
       "  </thead>\n",
       "  <tbody>\n",
       "    <tr>\n",
       "      <th>0</th>\n",
       "      <td>10711</td>\n",
       "      <td>True</td>\n",
       "      <td>False</td>\n",
       "      <td>False</td>\n",
       "      <td>False</td>\n",
       "      <td>False</td>\n",
       "      <td>False</td>\n",
       "      <td>False</td>\n",
       "      <td>False</td>\n",
       "      <td>False</td>\n",
       "      <td>...</td>\n",
       "      <td>False</td>\n",
       "      <td>False</td>\n",
       "      <td>False</td>\n",
       "      <td>False</td>\n",
       "      <td>False</td>\n",
       "      <td>False</td>\n",
       "      <td>False</td>\n",
       "      <td>False</td>\n",
       "      <td>False</td>\n",
       "      <td>False</td>\n",
       "    </tr>\n",
       "    <tr>\n",
       "      <th>1</th>\n",
       "      <td>2508</td>\n",
       "      <td>True</td>\n",
       "      <td>False</td>\n",
       "      <td>False</td>\n",
       "      <td>False</td>\n",
       "      <td>False</td>\n",
       "      <td>False</td>\n",
       "      <td>False</td>\n",
       "      <td>False</td>\n",
       "      <td>False</td>\n",
       "      <td>...</td>\n",
       "      <td>False</td>\n",
       "      <td>False</td>\n",
       "      <td>False</td>\n",
       "      <td>False</td>\n",
       "      <td>False</td>\n",
       "      <td>False</td>\n",
       "      <td>False</td>\n",
       "      <td>False</td>\n",
       "      <td>False</td>\n",
       "      <td>False</td>\n",
       "    </tr>\n",
       "    <tr>\n",
       "      <th>2</th>\n",
       "      <td>10716</td>\n",
       "      <td>True</td>\n",
       "      <td>False</td>\n",
       "      <td>False</td>\n",
       "      <td>False</td>\n",
       "      <td>False</td>\n",
       "      <td>False</td>\n",
       "      <td>False</td>\n",
       "      <td>False</td>\n",
       "      <td>False</td>\n",
       "      <td>...</td>\n",
       "      <td>False</td>\n",
       "      <td>False</td>\n",
       "      <td>False</td>\n",
       "      <td>False</td>\n",
       "      <td>False</td>\n",
       "      <td>False</td>\n",
       "      <td>False</td>\n",
       "      <td>False</td>\n",
       "      <td>False</td>\n",
       "      <td>False</td>\n",
       "    </tr>\n",
       "    <tr>\n",
       "      <th>3</th>\n",
       "      <td>7868</td>\n",
       "      <td>True</td>\n",
       "      <td>False</td>\n",
       "      <td>False</td>\n",
       "      <td>False</td>\n",
       "      <td>False</td>\n",
       "      <td>False</td>\n",
       "      <td>False</td>\n",
       "      <td>False</td>\n",
       "      <td>False</td>\n",
       "      <td>...</td>\n",
       "      <td>False</td>\n",
       "      <td>False</td>\n",
       "      <td>False</td>\n",
       "      <td>False</td>\n",
       "      <td>False</td>\n",
       "      <td>False</td>\n",
       "      <td>False</td>\n",
       "      <td>False</td>\n",
       "      <td>False</td>\n",
       "      <td>False</td>\n",
       "    </tr>\n",
       "    <tr>\n",
       "      <th>4</th>\n",
       "      <td>16268</td>\n",
       "      <td>True</td>\n",
       "      <td>False</td>\n",
       "      <td>False</td>\n",
       "      <td>False</td>\n",
       "      <td>False</td>\n",
       "      <td>False</td>\n",
       "      <td>False</td>\n",
       "      <td>True</td>\n",
       "      <td>False</td>\n",
       "      <td>...</td>\n",
       "      <td>False</td>\n",
       "      <td>False</td>\n",
       "      <td>False</td>\n",
       "      <td>False</td>\n",
       "      <td>False</td>\n",
       "      <td>False</td>\n",
       "      <td>False</td>\n",
       "      <td>False</td>\n",
       "      <td>False</td>\n",
       "      <td>False</td>\n",
       "    </tr>\n",
       "  </tbody>\n",
       "</table>\n",
       "<p>5 rows × 8589 columns</p>\n",
       "</div>"
      ],
      "text/plain": [
       "   item_id  content_type_film  content_type_series  \\\n",
       "0    10711               True                False   \n",
       "1     2508               True                False   \n",
       "2    10716               True                False   \n",
       "3     7868               True                False   \n",
       "4    16268               True                False   \n",
       "\n",
       "   release_year_cat_1920-1930  release_year_cat_1930-1940  \\\n",
       "0                       False                       False   \n",
       "1                       False                       False   \n",
       "2                       False                       False   \n",
       "3                       False                       False   \n",
       "4                       False                       False   \n",
       "\n",
       "   release_year_cat_1940-1950  release_year_cat_1950-1960  \\\n",
       "0                       False                       False   \n",
       "1                       False                       False   \n",
       "2                       False                       False   \n",
       "3                       False                       False   \n",
       "4                       False                       False   \n",
       "\n",
       "   release_year_cat_1960-1970  release_year_cat_1970-1980  \\\n",
       "0                       False                       False   \n",
       "1                       False                       False   \n",
       "2                       False                       False   \n",
       "3                       False                       False   \n",
       "4                       False                        True   \n",
       "\n",
       "   release_year_cat_1980-1990  ...  directors_ярив хоровиц  \\\n",
       "0                       False  ...                   False   \n",
       "1                       False  ...                   False   \n",
       "2                       False  ...                   False   \n",
       "3                       False  ...                   False   \n",
       "4                       False  ...                   False   \n",
       "\n",
       "   directors_ярон зильберман  directors_ярополк лапшин  \\\n",
       "0                      False                     False   \n",
       "1                      False                     False   \n",
       "2                      False                     False   \n",
       "3                      False                     False   \n",
       "4                      False                     False   \n",
       "\n",
       "   directors_ярослав лупий  directors_ярроу чейни, скотт моужер  \\\n",
       "0                    False                                False   \n",
       "1                    False                                False   \n",
       "2                    False                                False   \n",
       "3                    False                                False   \n",
       "4                    False                                False   \n",
       "\n",
       "   directors_ясина сезар  directors_ясуоми умэцу  \\\n",
       "0                  False                   False   \n",
       "1                  False                   False   \n",
       "2                  False                   False   \n",
       "3                  False                   False   \n",
       "4                  False                   False   \n",
       "\n",
       "   directors_ёдзи фукуяма, ацуко фукусима, николас де креси, синъитиро ватанабэ, сёдзи кавамори  \\\n",
       "0                                              False                                              \n",
       "1                                              False                                              \n",
       "2                                              False                                              \n",
       "3                                              False                                              \n",
       "4                                              False                                              \n",
       "\n",
       "   directors_ёлкин туйчиев  directors_ён сан-хо  \n",
       "0                    False                False  \n",
       "1                    False                False  \n",
       "2                    False                False  \n",
       "3                    False                False  \n",
       "4                    False                False  \n",
       "\n",
       "[5 rows x 8589 columns]"
      ]
     },
     "execution_count": 26,
     "metadata": {},
     "output_type": "execute_result"
    }
   ],
   "source": [
    "item_cat_feats = ['content_type', 'release_year_cat',\n",
    "                  'for_kids', 'age_rating', \n",
    "                  'studios', 'countries', 'directors']\n",
    "\n",
    "items_ohe_df = items_df.item_id\n",
    "\n",
    "for feat in item_cat_feats:\n",
    "    ohe_feat_df = pd.get_dummies(items_df[feat], prefix=feat)\n",
    "    items_ohe_df = pd.concat([items_ohe_df, ohe_feat_df], axis=1) \n",
    "\n",
    "items_ohe_df.head()"
   ]
  },
  {
   "cell_type": "markdown",
   "id": "40525d40",
   "metadata": {
    "id": "cc595c20"
   },
   "source": [
    "## Сделаем матрицу взаимодействий"
   ]
  },
  {
   "cell_type": "code",
   "execution_count": 27,
   "id": "ed6e1f07",
   "metadata": {
    "ExecuteTime": {
     "end_time": "2021-10-28T18:40:37.898427Z",
     "start_time": "2021-10-28T18:40:37.864067Z"
    },
    "colab": {
     "base_uri": "https://localhost:8080/"
    },
    "execution": {
     "iopub.execute_input": "2023-12-12T14:04:55.217088Z",
     "iopub.status.busy": "2023-12-12T14:04:55.216752Z",
     "iopub.status.idle": "2023-12-12T14:04:55.320958Z",
     "shell.execute_reply": "2023-12-12T14:04:55.320015Z",
     "shell.execute_reply.started": "2023-12-12T14:04:55.217063Z"
    },
    "id": "79c9bca3",
    "outputId": "6f6148e0-8de7-4ffc-82d9-cf396db1ed98"
   },
   "outputs": [
    {
     "data": {
      "text/plain": [
       "item_id\n",
       "10440    202457\n",
       "15297    193123\n",
       "9728     132865\n",
       "13865    122119\n",
       "4151      91167\n",
       "          ...  \n",
       "8076          1\n",
       "8954          1\n",
       "15664         1\n",
       "818           1\n",
       "10542         1\n",
       "Name: count, Length: 15706, dtype: int64"
      ]
     },
     "execution_count": 27,
     "metadata": {},
     "output_type": "execute_result"
    }
   ],
   "source": [
    "interactions_df.item_id.value_counts()"
   ]
  },
  {
   "cell_type": "markdown",
   "id": "1c3c9b8d",
   "metadata": {
    "id": "YAfqm8asrBfG"
   },
   "source": [
    "В датасете взаимодействий есть непопулярные фильмы и малоактивные пользователи. Кроме того, в таблице взаимодействий есть события с низким качеством взаимодействия - когда юзер начал смотреть фильм, но вскоре после начала просмотра выключил.\n",
    "\n",
    "Отфильтруем такие события*, малоактивных юзеров и непопулярные фильмы.\n",
    "\n",
    "Можете не фильтровать такие события, тогда у вас будет больше негативных примеров."
   ]
  },
  {
   "cell_type": "code",
   "execution_count": 28,
   "id": "c56990e5",
   "metadata": {
    "ExecuteTime": {
     "end_time": "2021-10-28T18:40:38.103819Z",
     "start_time": "2021-10-28T18:40:38.070117Z"
    },
    "colab": {
     "base_uri": "https://localhost:8080/"
    },
    "execution": {
     "iopub.execute_input": "2023-12-12T14:04:56.351657Z",
     "iopub.status.busy": "2023-12-12T14:04:56.350941Z",
     "iopub.status.idle": "2023-12-12T14:04:56.742555Z",
     "shell.execute_reply": "2023-12-12T14:04:56.741547Z",
     "shell.execute_reply.started": "2023-12-12T14:04:56.351624Z"
    },
    "id": "17334e80",
    "outputId": "bfbe26dd-7778-42ad-c5dd-283635fcafa6"
   },
   "outputs": [
    {
     "data": {
      "text/plain": [
       "user_id\n",
       "416206     1341\n",
       "1010539     764\n",
       "555233      685\n",
       "11526       676\n",
       "409259      625\n",
       "           ... \n",
       "45493         1\n",
       "615194        1\n",
       "96848         1\n",
       "425823        1\n",
       "697262        1\n",
       "Name: count, Length: 962179, dtype: int64"
      ]
     },
     "execution_count": 28,
     "metadata": {},
     "output_type": "execute_result"
    }
   ],
   "source": [
    "interactions_df.user_id.value_counts()"
   ]
  },
  {
   "cell_type": "code",
   "execution_count": 29,
   "id": "814fe6a4",
   "metadata": {
    "ExecuteTime": {
     "end_time": "2021-10-28T18:40:39.717096Z",
     "start_time": "2021-10-28T18:40:38.759740Z"
    },
    "colab": {
     "base_uri": "https://localhost:8080/"
    },
    "execution": {
     "iopub.execute_input": "2023-12-12T14:04:57.862119Z",
     "iopub.status.busy": "2023-12-12T14:04:57.861761Z",
     "iopub.status.idle": "2023-12-12T14:05:01.206993Z",
     "shell.execute_reply": "2023-12-12T14:05:01.205959Z",
     "shell.execute_reply.started": "2023-12-12T14:04:57.862089Z"
    },
    "id": "076e4ebc",
    "outputId": "85c15fd2-12bb-478c-e00f-4f2b7bbcd6ab"
   },
   "outputs": [
    {
     "name": "stdout",
     "output_type": "stream",
     "text": [
      "N users before: 962179\n",
      "N items before: 15706\n",
      "\n",
      "N users after: 79515\n",
      "N items after: 6901\n"
     ]
    }
   ],
   "source": [
    "print(f\"N users before: {interactions_df.user_id.nunique()}\")\n",
    "print(f\"N items before: {interactions_df.item_id.nunique()}\\n\")\n",
    "\n",
    "# отфильтруем все события взаимодействий, в которых пользователь посмотрел\n",
    "# фильм менее чем на 10 процентов\n",
    "interactions_df = interactions_df[interactions_df.watched_pct > 10]\n",
    "\n",
    "# соберем всех пользователей, которые посмотрели \n",
    "# больше 10 фильмов (можете выбрать другой порог)\n",
    "valid_users = []\n",
    "\n",
    "c = Counter(interactions_df.user_id)\n",
    "for user_id, entries in c.most_common():\n",
    "    if entries > 10:\n",
    "        valid_users.append(user_id)\n",
    "\n",
    "# и соберем все фильмы, которые посмотрели больше 10 пользователей\n",
    "valid_items = []\n",
    "\n",
    "c = Counter(interactions_df.item_id)\n",
    "for item_id, entries in c.most_common():\n",
    "    if entries > 10:\n",
    "        valid_items.append(item_id)\n",
    "\n",
    "# отбросим непопулярные фильмы и неактивных юзеров\n",
    "interactions_df = interactions_df[interactions_df.user_id.isin(valid_users)]\n",
    "interactions_df = interactions_df[interactions_df.item_id.isin(valid_items)]\n",
    "\n",
    "print(f\"N users after: {interactions_df.user_id.nunique()}\")\n",
    "print(f\"N items after: {interactions_df.item_id.nunique()}\")"
   ]
  },
  {
   "cell_type": "markdown",
   "id": "e6a118a5",
   "metadata": {
    "id": "a9163fb2"
   },
   "source": [
    "После фильтрации может получиться так, что некоторые айтемы/юзеры есть в датасете взаимодействий, но при этом они отсутствуют в датасетах айтемов/юзеров или наоборот. Поэтому найдем id айтемов и id юзеров, которые есть во всех датасетах и оставим только их."
   ]
  },
  {
   "cell_type": "code",
   "execution_count": 30,
   "id": "c001c23b",
   "metadata": {
    "ExecuteTime": {
     "end_time": "2021-10-28T18:40:40.231703Z",
     "start_time": "2021-10-28T18:40:39.718626Z"
    },
    "colab": {
     "base_uri": "https://localhost:8080/"
    },
    "execution": {
     "iopub.execute_input": "2023-12-12T14:05:01.208737Z",
     "iopub.status.busy": "2023-12-12T14:05:01.208465Z",
     "iopub.status.idle": "2023-12-12T14:05:01.808169Z",
     "shell.execute_reply": "2023-12-12T14:05:01.807380Z",
     "shell.execute_reply.started": "2023-12-12T14:05:01.208712Z"
    },
    "id": "d55848e1",
    "outputId": "48609a0b-06b9-4a5e-f8f6-061db1c6dcb2"
   },
   "outputs": [
    {
     "name": "stdout",
     "output_type": "stream",
     "text": [
      "65974\n",
      "6901\n"
     ]
    }
   ],
   "source": [
    "common_users = set(interactions_df.user_id.unique()).intersection(set(users_ohe_df.user_id.unique()))\n",
    "common_items = set(interactions_df.item_id.unique()).intersection(set(items_ohe_df.item_id.unique()))\n",
    "\n",
    "print(len(common_users))\n",
    "print(len(common_items))\n",
    "\n",
    "interactions_df = interactions_df[interactions_df.item_id.isin(common_items)]\n",
    "interactions_df = interactions_df[interactions_df.user_id.isin(common_users)]\n",
    "\n",
    "items_ohe_df = items_ohe_df[items_ohe_df.item_id.isin(common_items)]\n",
    "users_ohe_df = users_ohe_df[users_ohe_df.user_id.isin(common_users)]"
   ]
  },
  {
   "cell_type": "markdown",
   "id": "fe741091",
   "metadata": {
    "id": "1e8b9480"
   },
   "source": [
    "Соберем взаимодействия в матрицу user*item так, чтобы в строках этой матрицы были user_id, в столбцах - item_id, а на пересечениях строк и столбцов - единица, если пользователь взаимодействовал с айтемом и ноль, если нет.\n",
    "\n",
    "Такую матрицу удобно собирать в numpy array, однако нужно помнить, что numpy array индексируется порядковыми индексами, а нам же удобнее использовать item_id и user_id.\n",
    "\n",
    "Создадим некие внутренние индексы для user_id и item_id - uid и iid. Для этого просто соберем все user_id и item_id и пронумеруем их по порядку."
   ]
  },
  {
   "cell_type": "code",
   "execution_count": 31,
   "id": "1ea4ebdd",
   "metadata": {
    "ExecuteTime": {
     "end_time": "2021-10-28T18:40:40.346587Z",
     "start_time": "2021-10-28T18:40:40.233046Z"
    },
    "colab": {
     "base_uri": "https://localhost:8080/",
     "height": 242
    },
    "execution": {
     "iopub.execute_input": "2023-12-12T14:05:01.809855Z",
     "iopub.status.busy": "2023-12-12T14:05:01.809601Z",
     "iopub.status.idle": "2023-12-12T14:05:01.970506Z",
     "shell.execute_reply": "2023-12-12T14:05:01.969603Z",
     "shell.execute_reply.started": "2023-12-12T14:05:01.809834Z"
    },
    "id": "81679fb0",
    "outputId": "0c6bf7ce-1ea0-46c2-9d70-42b32bf08c7e"
   },
   "outputs": [
    {
     "name": "stdout",
     "output_type": "stream",
     "text": [
      "[0, 1, 2, 3, 4]\n",
      "[0, 1, 2, 3, 4]\n"
     ]
    },
    {
     "data": {
      "text/html": [
       "<div>\n",
       "<style scoped>\n",
       "    .dataframe tbody tr th:only-of-type {\n",
       "        vertical-align: middle;\n",
       "    }\n",
       "\n",
       "    .dataframe tbody tr th {\n",
       "        vertical-align: top;\n",
       "    }\n",
       "\n",
       "    .dataframe thead th {\n",
       "        text-align: right;\n",
       "    }\n",
       "</style>\n",
       "<table border=\"1\" class=\"dataframe\">\n",
       "  <thead>\n",
       "    <tr style=\"text-align: right;\">\n",
       "      <th></th>\n",
       "      <th>user_id</th>\n",
       "      <th>item_id</th>\n",
       "      <th>last_watch_dt</th>\n",
       "      <th>total_dur</th>\n",
       "      <th>watched_pct</th>\n",
       "      <th>uid</th>\n",
       "      <th>iid</th>\n",
       "    </tr>\n",
       "  </thead>\n",
       "  <tbody>\n",
       "    <tr>\n",
       "      <th>0</th>\n",
       "      <td>176549</td>\n",
       "      <td>9506</td>\n",
       "      <td>2021-05-11</td>\n",
       "      <td>4250</td>\n",
       "      <td>72</td>\n",
       "      <td>10616</td>\n",
       "      <td>3944</td>\n",
       "    </tr>\n",
       "    <tr>\n",
       "      <th>1</th>\n",
       "      <td>699317</td>\n",
       "      <td>1659</td>\n",
       "      <td>2021-05-29</td>\n",
       "      <td>8317</td>\n",
       "      <td>100</td>\n",
       "      <td>42131</td>\n",
       "      <td>675</td>\n",
       "    </tr>\n",
       "    <tr>\n",
       "      <th>6</th>\n",
       "      <td>1016458</td>\n",
       "      <td>354</td>\n",
       "      <td>2021-08-14</td>\n",
       "      <td>1672</td>\n",
       "      <td>25</td>\n",
       "      <td>61024</td>\n",
       "      <td>139</td>\n",
       "    </tr>\n",
       "    <tr>\n",
       "      <th>7</th>\n",
       "      <td>884009</td>\n",
       "      <td>693</td>\n",
       "      <td>2021-08-04</td>\n",
       "      <td>703</td>\n",
       "      <td>14</td>\n",
       "      <td>53150</td>\n",
       "      <td>279</td>\n",
       "    </tr>\n",
       "    <tr>\n",
       "      <th>14</th>\n",
       "      <td>5324</td>\n",
       "      <td>8437</td>\n",
       "      <td>2021-04-18</td>\n",
       "      <td>6598</td>\n",
       "      <td>92</td>\n",
       "      <td>310</td>\n",
       "      <td>3485</td>\n",
       "    </tr>\n",
       "  </tbody>\n",
       "</table>\n",
       "</div>"
      ],
      "text/plain": [
       "    user_id  item_id last_watch_dt  total_dur  watched_pct    uid   iid\n",
       "0    176549     9506    2021-05-11       4250           72  10616  3944\n",
       "1    699317     1659    2021-05-29       8317          100  42131   675\n",
       "6   1016458      354    2021-08-14       1672           25  61024   139\n",
       "7    884009      693    2021-08-04        703           14  53150   279\n",
       "14     5324     8437    2021-04-18       6598           92    310  3485"
      ]
     },
     "execution_count": 31,
     "metadata": {},
     "output_type": "execute_result"
    }
   ],
   "source": [
    "interactions_df[\"uid\"] = interactions_df[\"user_id\"].astype(\"category\")\n",
    "interactions_df[\"uid\"] = interactions_df[\"uid\"].cat.codes\n",
    "\n",
    "interactions_df[\"iid\"] = interactions_df[\"item_id\"].astype(\"category\")\n",
    "interactions_df[\"iid\"] = interactions_df[\"iid\"].cat.codes\n",
    "\n",
    "print(sorted(interactions_df.iid.unique())[:5])\n",
    "print(sorted(interactions_df.uid.unique())[:5])\n",
    "interactions_df.head()"
   ]
  },
  {
   "cell_type": "markdown",
   "id": "a591798f",
   "metadata": {
    "id": "61c855e5"
   },
   "source": [
    "Отнормируем матрицу взаимодействий + учтем не просто взаимодействие, а время взаимодсействия ну как в целом в лекции и говорились, что тут можно использовать что-то кроме 1"
   ]
  },
  {
   "cell_type": "code",
   "execution_count": 32,
   "id": "53b5cc9b",
   "metadata": {
    "ExecuteTime": {
     "end_time": "2021-10-28T18:41:03.360248Z",
     "start_time": "2021-10-28T18:40:40.348057Z"
    },
    "execution": {
     "iopub.execute_input": "2023-12-12T14:05:03.881083Z",
     "iopub.status.busy": "2023-12-12T14:05:03.880177Z",
     "iopub.status.idle": "2023-12-12T14:05:11.332956Z",
     "shell.execute_reply": "2023-12-12T14:05:11.331965Z",
     "shell.execute_reply.started": "2023-12-12T14:05:03.881050Z"
    },
    "id": "3feced70"
   },
   "outputs": [],
   "source": [
    "interactions_vec = np.zeros((interactions_df.uid.nunique(), \n",
    "                             interactions_df.iid.nunique())) \n",
    "\n",
    "for user_id, item_id, watched_pct in zip(interactions_df.uid, interactions_df.iid, interactions_df.watched_pct):\n",
    "    interactions_vec[user_id, item_id] += watched_pct / 100\n",
    "\n",
    "\n",
    "res = interactions_vec.sum(axis=1)\n",
    "for i in range(len(interactions_vec)):\n",
    "    interactions_vec[i] /= res[i]"
   ]
  },
  {
   "cell_type": "code",
   "execution_count": 37,
   "id": "ded42ccf",
   "metadata": {
    "ExecuteTime": {
     "end_time": "2021-10-28T18:41:03.416061Z",
     "start_time": "2021-10-28T18:41:03.363462Z"
    },
    "colab": {
     "base_uri": "https://localhost:8080/"
    },
    "execution": {
     "iopub.execute_input": "2023-12-12T14:05:32.803184Z",
     "iopub.status.busy": "2023-12-12T14:05:32.802463Z",
     "iopub.status.idle": "2023-12-12T14:05:32.852996Z",
     "shell.execute_reply": "2023-12-12T14:05:32.852064Z",
     "shell.execute_reply.started": "2023-12-12T14:05:32.803151Z"
    },
    "id": "9f5ec90f",
    "outputId": "9acdfe45-aa4e-4a64-ffdc-1a750390ae84"
   },
   "outputs": [
    {
     "name": "stdout",
     "output_type": "stream",
     "text": [
      "6897\n",
      "6897\n",
      "65974\n",
      "65974\n",
      "set()\n"
     ]
    }
   ],
   "source": [
    "print(interactions_df.item_id.nunique())\n",
    "print(items_ohe_df.item_id.nunique())\n",
    "print(interactions_df.user_id.nunique())\n",
    "print(users_ohe_df.user_id.nunique())\n",
    "\n",
    "print(set(items_ohe_df.item_id.unique()) - set(interactions_df.item_id.unique()))"
   ]
  },
  {
   "cell_type": "code",
   "execution_count": 36,
   "id": "204e6e1c",
   "metadata": {
    "execution": {
     "iopub.execute_input": "2023-12-12T14:05:27.213609Z",
     "iopub.status.busy": "2023-12-12T14:05:27.212751Z",
     "iopub.status.idle": "2023-12-12T14:05:27.281415Z",
     "shell.execute_reply": "2023-12-12T14:05:27.280265Z",
     "shell.execute_reply.started": "2023-12-12T14:05:27.213571Z"
    }
   },
   "outputs": [],
   "source": [
    "items_ohe_df = items_ohe_df[~items_ohe_df.item_id.isin([11805, 9788, 11501, 1734])]"
   ]
  },
  {
   "cell_type": "markdown",
   "id": "3e8eb839",
   "metadata": {
    "id": "19e69bae"
   },
   "source": [
    "Для того, чтобы можно было удобно превратить iid/uid в item_id/user_id и наоборот соберем словари \n",
    "\n",
    "{iid: item_id}, {uid: user_id} и {item_id: iid}, {user_id: uid}."
   ]
  },
  {
   "cell_type": "code",
   "execution_count": 38,
   "id": "a40d2a12",
   "metadata": {
    "ExecuteTime": {
     "end_time": "2021-10-28T18:41:03.637495Z",
     "start_time": "2021-10-28T18:41:03.417544Z"
    },
    "execution": {
     "iopub.execute_input": "2023-12-12T14:05:36.453530Z",
     "iopub.status.busy": "2023-12-12T14:05:36.453144Z",
     "iopub.status.idle": "2023-12-12T14:05:36.849410Z",
     "shell.execute_reply": "2023-12-12T14:05:36.848382Z",
     "shell.execute_reply.started": "2023-12-12T14:05:36.453500Z"
    },
    "id": "c8a84024"
   },
   "outputs": [],
   "source": [
    "iid_to_item_id = interactions_df[[\"iid\", \"item_id\"]].drop_duplicates().set_index(\"iid\").to_dict()[\"item_id\"]\n",
    "item_id_to_iid = interactions_df[[\"iid\", \"item_id\"]].drop_duplicates().set_index(\"item_id\").to_dict()[\"iid\"]\n",
    "\n",
    "uid_to_user_id = interactions_df[[\"uid\", \"user_id\"]].drop_duplicates().set_index(\"uid\").to_dict()[\"user_id\"]\n",
    "user_id_to_uid = interactions_df[[\"uid\", \"user_id\"]].drop_duplicates().set_index(\"user_id\").to_dict()[\"uid\"]"
   ]
  },
  {
   "cell_type": "code",
   "execution_count": 39,
   "id": "b2d593ea",
   "metadata": {
    "execution": {
     "iopub.execute_input": "2023-12-12T14:05:37.081563Z",
     "iopub.status.busy": "2023-12-12T14:05:37.080742Z",
     "iopub.status.idle": "2023-12-12T14:05:37.216572Z",
     "shell.execute_reply": "2023-12-12T14:05:37.215731Z",
     "shell.execute_reply.started": "2023-12-12T14:05:37.081529Z"
    },
    "id": "k7fqwJ-bxjX-"
   },
   "outputs": [],
   "source": [
    "items_ohe_df[\"iid\"] = items_ohe_df[\"item_id\"].apply(lambda x: item_id_to_iid[x])\n",
    "items_ohe_df = items_ohe_df.set_index(\"iid\")\n",
    "\n",
    "users_ohe_df[\"uid\"] = users_ohe_df[\"user_id\"].apply(lambda x: user_id_to_uid[x])\n",
    "users_ohe_df = users_ohe_df.set_index(\"uid\")"
   ]
  },
  {
   "cell_type": "markdown",
   "id": "87b5e448",
   "metadata": {
    "id": "48ca5204"
   },
   "source": [
    "И проиндексируем датасеты users_ohe_df и items_ohe_df по внутренним айди:"
   ]
  },
  {
   "cell_type": "code",
   "execution_count": 40,
   "id": "db26e2a0",
   "metadata": {
    "ExecuteTime": {
     "end_time": "2021-10-28T18:41:03.749717Z",
     "start_time": "2021-10-28T18:41:03.746067Z"
    },
    "execution": {
     "iopub.execute_input": "2023-12-12T14:05:39.325957Z",
     "iopub.status.busy": "2023-12-12T14:05:39.325599Z",
     "iopub.status.idle": "2023-12-12T14:05:39.332736Z",
     "shell.execute_reply": "2023-12-12T14:05:39.331820Z",
     "shell.execute_reply.started": "2023-12-12T14:05:39.325926Z"
    },
    "id": "22c26d39"
   },
   "outputs": [],
   "source": [
    "def triplet_loss(y_true, y_pred, n_dims=128, alpha=0.4):\n",
    "    # будем ожидать, что на вход функции прилетит три сконкатенированных \n",
    "    # вектора - вектор юзера и два вектора айтема\n",
    "    anchor = y_pred[:, 0:n_dims]\n",
    "    positive = y_pred[:, n_dims:n_dims*2]\n",
    "    negative = y_pred[:, n_dims*2:n_dims*3]\n",
    "\n",
    "    # считаем расстояния от вектора юзера до вектора хорошего айтема\n",
    "    pos_dist = K.sum(K.square(anchor - positive), axis=1)\n",
    "    # и до плохого\n",
    "    neg_dist = K.sum(K.square(anchor - negative), axis=1)\n",
    "\n",
    "    # считаем лосс\n",
    "    basic_loss = pos_dist - neg_dist + alpha\n",
    "    loss = K.maximum(basic_loss, 0.0) # возвращаем ноль, если лосс отрицательный\n",
    " \n",
    "    return loss"
   ]
  },
  {
   "cell_type": "markdown",
   "id": "1ea95862",
   "metadata": {
    "ExecuteTime": {
     "end_time": "2021-10-28T19:19:05.615364Z",
     "start_time": "2021-10-28T19:19:05.612463Z"
    },
    "id": "4de262b4"
   },
   "source": [
    "Попробуйте другие лоссы, например, BPR Triplet loss"
   ]
  },
  {
   "cell_type": "markdown",
   "id": "d668cc04",
   "metadata": {
    "ExecuteTime": {
     "end_time": "2021-10-23T11:20:03.327838Z",
     "start_time": "2021-10-23T11:20:03.324389Z"
    },
    "id": "85d618b6"
   },
   "source": [
    "## Генератор и семплирование\n",
    "\n",
    "Сделаем простой генератор. Он будет брать рандромного юзера, и два разных айтема - хороший пример и плохой:\n",
    "- хорошим примером будет тот айтем, который был взят из датасета взаимодействий в соответствии с распределением просмотренных айтемов для этого юзера;\n",
    "- а плохим айтемом будет просто любой другой _случайный айтем_*\n"
   ]
  },
  {
   "cell_type": "code",
   "execution_count": 41,
   "id": "857b90ff",
   "metadata": {
    "ExecuteTime": {
     "end_time": "2021-10-28T18:41:03.755386Z",
     "start_time": "2021-10-28T18:41:03.750664Z"
    },
    "execution": {
     "iopub.execute_input": "2023-12-12T14:05:41.476335Z",
     "iopub.status.busy": "2023-12-12T14:05:41.475960Z",
     "iopub.status.idle": "2023-12-12T14:05:41.484774Z",
     "shell.execute_reply": "2023-12-12T14:05:41.483776Z",
     "shell.execute_reply.started": "2023-12-12T14:05:41.476303Z"
    },
    "id": "7829878b"
   },
   "outputs": [],
   "source": [
    "def generator(items, users, interactions, batch_size=1024):\n",
    "    while True:\n",
    "        uid_meta = []\n",
    "        uid_interaction = []\n",
    "        pos = []\n",
    "        neg = []\n",
    "        for _ in range(batch_size):\n",
    "            # берем рандомный uid\n",
    "            uid_i = randint(0, interactions.shape[0]-1)\n",
    "            # id хорошего айтема\n",
    "            pos_i = np.random.choice(range(interactions.shape[1]), p=interactions[uid_i])\n",
    "            # id плохого айтема\n",
    "            neg_i = np.random.choice(range(interactions.shape[1]))\n",
    "            # фичи юзера\n",
    "            uid_meta.append(users.iloc[uid_i])\n",
    "            # вектор айтемов, с которыми юзер взаимодействовал\n",
    "            uid_interaction.append(interactions_vec[uid_i])\n",
    "            # фичи хорошего айтема\n",
    "            pos.append(items.iloc[pos_i])\n",
    "            # фичи плохого айтема\n",
    "            neg.append(items.iloc[neg_i])\n",
    "            \n",
    "        yield [np.array(uid_meta), np.array(uid_interaction), np.array(pos), np.array(neg)], [np.array(uid_meta), np.array(uid_interaction)]\n"
   ]
  },
  {
   "cell_type": "code",
   "execution_count": 42,
   "id": "fc8ce8ef",
   "metadata": {
    "ExecuteTime": {
     "end_time": "2021-10-28T18:41:16.386864Z",
     "start_time": "2021-10-28T18:41:03.756363Z"
    },
    "colab": {
     "base_uri": "https://localhost:8080/"
    },
    "execution": {
     "iopub.execute_input": "2023-12-12T14:05:43.032644Z",
     "iopub.status.busy": "2023-12-12T14:05:43.032264Z",
     "iopub.status.idle": "2023-12-12T14:05:44.984501Z",
     "shell.execute_reply": "2023-12-12T14:05:44.983554Z",
     "shell.execute_reply.started": "2023-12-12T14:05:43.032615Z"
    },
    "id": "af9d3c3b",
    "outputId": "1040f567-f64a-4ccb-91a8-48034694dfdc"
   },
   "outputs": [
    {
     "name": "stdout",
     "output_type": "stream",
     "text": [
      "вектор фичей юзера: (1024, 19)\n",
      "вектор взаимодействий юзера с айтемами: (1024, 6897)\n",
      "вектор 'хорошего' айтема: (1024, 8588)\n",
      "вектор 'плохого' айтема: (1024, 8588)\n",
      "\n",
      "вектор фичей юзера: (1024, 19)\n",
      "вектор взаимодействий юзера с айтемами: (1024, 6897)\n"
     ]
    }
   ],
   "source": [
    "# инициализируем генератор\n",
    "gen = generator(items=items_ohe_df.drop([\"item_id\"], axis=1), \n",
    "                users=users_ohe_df.drop([\"user_id\"], axis=1), \n",
    "                interactions=interactions_vec)\n",
    "\n",
    "ret = next(gen)\n",
    "\n",
    "\n",
    "print(f\"вектор фичей юзера: {ret[0][0].shape}\")\n",
    "print(f\"вектор взаимодействий юзера с айтемами: {ret[0][1].shape}\")\n",
    "print(f\"вектор 'хорошего' айтема: {ret[0][2].shape}\")\n",
    "print(f\"вектор 'плохого' айтема: {ret[0][3].shape}\")\n",
    "print()\n",
    "print(f\"вектор фичей юзера: {ret[1][0].shape}\")\n",
    "print(f\"вектор взаимодействий юзера с айтемами: {ret[1][1].shape}\")"
   ]
  },
  {
   "cell_type": "code",
   "execution_count": 58,
   "id": "a8cdb418",
   "metadata": {
    "execution": {
     "iopub.execute_input": "2023-12-11T19:57:20.893822Z",
     "iopub.status.busy": "2023-12-11T19:57:20.893091Z",
     "iopub.status.idle": "2023-12-11T19:57:20.899839Z",
     "shell.execute_reply": "2023-12-11T19:57:20.898894Z",
     "shell.execute_reply.started": "2023-12-11T19:57:20.893790Z"
    }
   },
   "outputs": [
    {
     "data": {
      "text/plain": [
       "array([[False, False,  True, ..., False,  True, False],\n",
       "       [False,  True, False, ..., False,  True, False],\n",
       "       [False, False, False, ..., False,  True, False],\n",
       "       ...,\n",
       "       [False, False,  True, ..., False,  True, False],\n",
       "       [False, False, False, ..., False,  True, False],\n",
       "       [False, False,  True, ..., False,  True, False]])"
      ]
     },
     "execution_count": 58,
     "metadata": {},
     "output_type": "execute_result"
    }
   ],
   "source": [
    "ret[0][0]"
   ]
  },
  {
   "cell_type": "code",
   "execution_count": null,
   "id": "9ac4dcdd",
   "metadata": {},
   "outputs": [],
   "source": []
  },
  {
   "cell_type": "markdown",
   "id": "6b6b8c1c",
   "metadata": {
    "id": "8bcc3e80"
   },
   "source": [
    "### Сделайте генаратор, который будет использовать информацию о качестве взаимодействия юзеров с айтемами для более репрезентативного сэмплирования"
   ]
  },
  {
   "cell_type": "code",
   "execution_count": 51,
   "id": "5151361a",
   "metadata": {
    "ExecuteTime": {
     "end_time": "2021-10-28T18:41:16.493030Z",
     "start_time": "2021-10-28T18:41:16.388592Z"
    },
    "colab": {
     "base_uri": "https://localhost:8080/"
    },
    "execution": {
     "iopub.execute_input": "2023-12-12T14:07:07.022696Z",
     "iopub.status.busy": "2023-12-12T14:07:07.021909Z",
     "iopub.status.idle": "2023-12-12T14:07:07.052901Z",
     "shell.execute_reply": "2023-12-12T14:07:07.051880Z",
     "shell.execute_reply.started": "2023-12-12T14:07:07.022663Z"
    },
    "id": "967b819f",
    "outputId": "2f7a5885-dcb3-4ab8-80f8-57a21635595d"
   },
   "outputs": [
    {
     "name": "stdout",
     "output_type": "stream",
     "text": [
      "N_FACTORS: 128\n",
      "ITEM_MODEL_SHAPE: (8588,)\n",
      "USER_META_MODEL_SHAPE: (19,)\n",
      "USER_INTERACTION_MODEL_SHAPE: (6897,)\n"
     ]
    }
   ],
   "source": [
    "N_FACTORS = 128\n",
    "\n",
    "# в датасетах есть столбец user_id/item_id, помним, что он не является фичей для обучения!\n",
    "ITEM_MODEL_SHAPE = (items_ohe_df.drop([\"item_id\"], axis=1).shape[1], ) \n",
    "USER_META_MODEL_SHAPE = (users_ohe_df.drop([\"user_id\"], axis=1).shape[1], )\n",
    "\n",
    "USER_INTERACTION_MODEL_SHAPE = (interactions_vec.shape[1], )\n",
    "\n",
    "print(f\"N_FACTORS: {N_FACTORS}\")\n",
    "print(f\"ITEM_MODEL_SHAPE: {ITEM_MODEL_SHAPE}\")\n",
    "print(f\"USER_META_MODEL_SHAPE: {USER_META_MODEL_SHAPE}\")\n",
    "print(f\"USER_INTERACTION_MODEL_SHAPE: {USER_INTERACTION_MODEL_SHAPE}\")"
   ]
  },
  {
   "cell_type": "code",
   "execution_count": 52,
   "id": "5c2b8741",
   "metadata": {
    "ExecuteTime": {
     "end_time": "2021-10-28T18:41:16.816499Z",
     "start_time": "2021-10-28T18:41:16.494387Z"
    },
    "execution": {
     "iopub.execute_input": "2023-12-12T14:07:07.231314Z",
     "iopub.status.busy": "2023-12-12T14:07:07.230942Z",
     "iopub.status.idle": "2023-12-12T14:07:07.447173Z",
     "shell.execute_reply": "2023-12-12T14:07:07.446414Z",
     "shell.execute_reply.started": "2023-12-12T14:07:07.231281Z"
    },
    "id": "de649a01"
   },
   "outputs": [],
   "source": [
    "def item_model(n_factors=N_FACTORS):\n",
    "    # входной слой\n",
    "    inp = keras.layers.Input(shape=ITEM_MODEL_SHAPE)\n",
    "    \n",
    "    # полносвязный слой\n",
    "    layer_1 = keras.layers.Dense(N_FACTORS, activation='elu', use_bias=False,\n",
    "                               kernel_regularizer=keras.regularizers.l2(1e-6),\n",
    "                               activity_regularizer=keras.regularizers.l2(l2=1e-6))(inp)\n",
    "\n",
    "    # делаем residual connection - складываем два слоя, \n",
    "    # чтобы градиенты не затухали во время обучения\n",
    "    layer_2 = keras.layers.Dense(N_FACTORS, activation='elu', use_bias=False,\n",
    "                             kernel_regularizer=keras.regularizers.l2(1e-6),\n",
    "                             activity_regularizer=keras.regularizers.l2(l2=1e-6))(layer_1)\n",
    "    \n",
    "    add = keras.layers.Add()([layer_1, layer_2])\n",
    "    \n",
    "    # выходной слой\n",
    "    out = keras.layers.Dense(N_FACTORS, activation='linear', use_bias=False,\n",
    "                             kernel_regularizer=keras.regularizers.l2(1e-6),\n",
    "                             activity_regularizer=keras.regularizers.l2(l2=1e-6))(add)\n",
    "    \n",
    "    return keras.models.Model(inp, out)\n",
    "\n",
    "\n",
    "def user_model(n_factors=N_FACTORS):\n",
    "    # входной слой для вектора фичей юзера (из users_ohe_df)\n",
    "    inp_meta = keras.layers.Input(shape=USER_META_MODEL_SHAPE)\n",
    "    # входной слой для вектора просмотров (из iteractions_vec)\n",
    "    inp_interaction = keras.layers.Input(shape=USER_INTERACTION_MODEL_SHAPE)\n",
    "\n",
    "    # полносвязный слой\n",
    "    layer_1_meta = keras.layers.Dense(N_FACTORS, activation='elu', use_bias=False,\n",
    "                                 kernel_regularizer=keras.regularizers.l2(1e-6),\n",
    "                                 activity_regularizer=keras.regularizers.l2(l2=1e-6))(inp_meta)\n",
    "\n",
    "    layer_1_interaction = keras.layers.Dense(N_FACTORS, activation='elu', use_bias=False,\n",
    "                                 kernel_regularizer=keras.regularizers.l2(1e-6),\n",
    "                                 activity_regularizer=keras.regularizers.l2(l2=1e-6))(inp_interaction)\n",
    "\n",
    "    # делаем residual connection - складываем два слоя,\n",
    "    # чтобы градиенты не затухали во время обучения\n",
    "    layer_2_meta = keras.layers.Dense(N_FACTORS, activation='elu', use_bias=False,\n",
    "                                 kernel_regularizer=keras.regularizers.l2(1e-6),\n",
    "                                 activity_regularizer=keras.regularizers.l2(l2=1e-6))(layer_1_meta)\n",
    "    \n",
    "\n",
    "    add = keras.layers.Add()([layer_1_meta, layer_2_meta])\n",
    "    \n",
    "    # конкатенируем вектор фичей с вектором просмотров\n",
    "    concat_meta_interaction = keras.layers.Concatenate()([add, layer_1_interaction])\n",
    "    \n",
    "    # выходной слой\n",
    "    out = keras.layers.Dense(N_FACTORS, activation='linear', use_bias=False,\n",
    "                             kernel_regularizer=keras.regularizers.l2(1e-6),\n",
    "                             activity_regularizer=keras.regularizers.l2(l2=1e-6))(concat_meta_interaction)\n",
    "    \n",
    "    return keras.models.Model([inp_meta, inp_interaction], out)\n",
    "\n",
    "# инициализируем модели юзера и айтема\n",
    "i2v = item_model()\n",
    "u2v = user_model()\n",
    "\n",
    "# вход для вектора фичей юзера (из users_ohe_df)\n",
    "ancor_meta_in = keras.layers.Input(shape=USER_META_MODEL_SHAPE)\n",
    "# вход для вектора просмотра юзера (из interactions_vec)\n",
    "ancor_interaction_in = keras.layers.Input(shape=USER_INTERACTION_MODEL_SHAPE)\n",
    "\n",
    "# вход для вектора \"хорошего\" айтема\n",
    "pos_in = keras.layers.Input(shape=ITEM_MODEL_SHAPE)\n",
    "# вход для вектора \"плохого\" айтема\n",
    "neg_in = keras.layers.Input(shape=ITEM_MODEL_SHAPE)\n",
    "\n",
    "# получаем вектор юзера\n",
    "ancor = u2v([ancor_meta_in, ancor_interaction_in])\n",
    "# получаем вектор \"хорошего\" айтема\n",
    "pos = i2v(pos_in)\n",
    "# получаем вектор \"плохого\" айтема\n",
    "neg = i2v(neg_in)\n",
    "\n",
    "# конкатенируем полученные векторы\n",
    "res = keras.layers.Concatenate(name=\"concat_ancor_pos_neg\")([ancor, pos, neg])\n",
    "\n",
    "# собираем модель\n",
    "model = keras.models.Model([ancor_meta_in, ancor_interaction_in, pos_in, neg_in], res)"
   ]
  },
  {
   "cell_type": "markdown",
   "id": "7a6a7a49",
   "metadata": {
    "id": "8c284190"
   },
   "source": [
    "### Попробуйте передать текстовые признаки в модель"
   ]
  },
  {
   "cell_type": "code",
   "execution_count": 53,
   "id": "2e7956aa",
   "metadata": {
    "ExecuteTime": {
     "end_time": "2021-10-28T18:41:16.822662Z",
     "start_time": "2021-10-28T18:41:16.817857Z"
    },
    "execution": {
     "iopub.execute_input": "2023-12-12T14:07:08.263315Z",
     "iopub.status.busy": "2023-12-12T14:07:08.262960Z",
     "iopub.status.idle": "2023-12-12T14:07:08.269089Z",
     "shell.execute_reply": "2023-12-12T14:07:08.268074Z",
     "shell.execute_reply.started": "2023-12-12T14:07:08.263288Z"
    },
    "id": "e912d920"
   },
   "outputs": [],
   "source": [
    "model_name = 'recsys_resnet_linear'\n",
    "\n",
    "# логируем процесс обучения в тензорборд\n",
    "t_board = keras.callbacks.TensorBoard(log_dir=f'runs/{model_name}')\n",
    "\n",
    "# уменьшаем learning_rate, если лосс долго не уменьшается (в течение двух эпох)\n",
    "decay = keras.callbacks.ReduceLROnPlateau(monitor='loss', patience=2, factor=0.8, verbose=1)\n",
    "\n",
    "# сохраняем модель после каждой эпохи, если лосс уменьшился\n",
    "check = keras.callbacks.ModelCheckpoint(filepath=model_name + '/epoch{epoch}-{loss:.2f}.h5', monitor=\"loss\")\n"
   ]
  },
  {
   "cell_type": "code",
   "execution_count": 54,
   "id": "632cc82c",
   "metadata": {
    "ExecuteTime": {
     "end_time": "2021-10-28T18:41:16.832365Z",
     "start_time": "2021-10-28T18:41:16.824484Z"
    },
    "execution": {
     "iopub.execute_input": "2023-12-12T14:07:08.633384Z",
     "iopub.status.busy": "2023-12-12T14:07:08.633009Z",
     "iopub.status.idle": "2023-12-12T14:07:08.646311Z",
     "shell.execute_reply": "2023-12-12T14:07:08.645276Z",
     "shell.execute_reply.started": "2023-12-12T14:07:08.633353Z"
    },
    "id": "f95049f6"
   },
   "outputs": [],
   "source": [
    "# компилируем модель, используем оптимайзер Adam и triplet loss\n",
    "opt = keras.optimizers.Adam(lr=0.001)\n",
    "model.compile(loss=triplet_loss, optimizer=opt)"
   ]
  },
  {
   "cell_type": "code",
   "execution_count": 55,
   "id": "7af26d5f",
   "metadata": {
    "ExecuteTime": {
     "end_time": "2021-10-28T18:41:16.867472Z",
     "start_time": "2021-10-28T18:41:16.833753Z"
    },
    "colab": {
     "base_uri": "https://localhost:8080/"
    },
    "execution": {
     "iopub.execute_input": "2023-12-12T14:07:08.933838Z",
     "iopub.status.busy": "2023-12-12T14:07:08.933000Z",
     "iopub.status.idle": "2023-12-12T14:07:09.000469Z",
     "shell.execute_reply": "2023-12-12T14:07:08.999469Z",
     "shell.execute_reply.started": "2023-12-12T14:07:08.933807Z"
    },
    "id": "fb9382d0",
    "outputId": "2eca9a17-1544-4e27-a483-b86d11391767"
   },
   "outputs": [
    {
     "name": "stdout",
     "output_type": "stream",
     "text": [
      "Model: \"model_8\"\n",
      "__________________________________________________________________________________________________\n",
      " Layer (type)                Output Shape                 Param #   Connected to                  \n",
      "==================================================================================================\n",
      " input_18 (InputLayer)       [(None, 8588)]               0         []                            \n",
      "                                                                                                  \n",
      " dense_21 (Dense)            (None, 128)                  1099264   ['input_18[0][0]']            \n",
      "                                                                                                  \n",
      " dense_22 (Dense)            (None, 128)                  16384     ['dense_21[0][0]']            \n",
      "                                                                                                  \n",
      " add_6 (Add)                 (None, 128)                  0         ['dense_21[0][0]',            \n",
      "                                                                     'dense_22[0][0]']            \n",
      "                                                                                                  \n",
      " dense_23 (Dense)            (None, 128)                  16384     ['add_6[0][0]']               \n",
      "                                                                                                  \n",
      "==================================================================================================\n",
      "Total params: 1132032 (4.32 MB)\n",
      "Trainable params: 1132032 (4.32 MB)\n",
      "Non-trainable params: 0 (0.00 Byte)\n",
      "__________________________________________________________________________________________________\n"
     ]
    }
   ],
   "source": [
    "# модель айтема\n",
    "item_model().summary()"
   ]
  },
  {
   "cell_type": "code",
   "execution_count": 56,
   "id": "de185a2f",
   "metadata": {
    "ExecuteTime": {
     "end_time": "2021-10-28T18:41:16.923402Z",
     "start_time": "2021-10-28T18:41:16.868877Z"
    },
    "colab": {
     "base_uri": "https://localhost:8080/"
    },
    "execution": {
     "iopub.execute_input": "2023-12-12T14:07:09.268064Z",
     "iopub.status.busy": "2023-12-12T14:07:09.267344Z",
     "iopub.status.idle": "2023-12-12T14:07:09.354656Z",
     "shell.execute_reply": "2023-12-12T14:07:09.353753Z",
     "shell.execute_reply.started": "2023-12-12T14:07:09.268028Z"
    },
    "id": "286149d1",
    "outputId": "4284ba09-05ef-4963-c637-67e919701d19"
   },
   "outputs": [
    {
     "name": "stdout",
     "output_type": "stream",
     "text": [
      "Model: \"model_9\"\n",
      "__________________________________________________________________________________________________\n",
      " Layer (type)                Output Shape                 Param #   Connected to                  \n",
      "==================================================================================================\n",
      " input_19 (InputLayer)       [(None, 19)]                 0         []                            \n",
      "                                                                                                  \n",
      " dense_24 (Dense)            (None, 128)                  2432      ['input_19[0][0]']            \n",
      "                                                                                                  \n",
      " dense_26 (Dense)            (None, 128)                  16384     ['dense_24[0][0]']            \n",
      "                                                                                                  \n",
      " input_20 (InputLayer)       [(None, 6897)]               0         []                            \n",
      "                                                                                                  \n",
      " add_7 (Add)                 (None, 128)                  0         ['dense_24[0][0]',            \n",
      "                                                                     'dense_26[0][0]']            \n",
      "                                                                                                  \n",
      " dense_25 (Dense)            (None, 128)                  882816    ['input_20[0][0]']            \n",
      "                                                                                                  \n",
      " concatenate_3 (Concatenate  (None, 256)                  0         ['add_7[0][0]',               \n",
      " )                                                                   'dense_25[0][0]']            \n",
      "                                                                                                  \n",
      " dense_27 (Dense)            (None, 128)                  32768     ['concatenate_3[0][0]']       \n",
      "                                                                                                  \n",
      "==================================================================================================\n",
      "Total params: 934400 (3.56 MB)\n",
      "Trainable params: 934400 (3.56 MB)\n",
      "Non-trainable params: 0 (0.00 Byte)\n",
      "__________________________________________________________________________________________________\n"
     ]
    }
   ],
   "source": [
    "# модель юзера\n",
    "user_model().summary()"
   ]
  },
  {
   "cell_type": "code",
   "execution_count": 57,
   "id": "2151385b",
   "metadata": {
    "ExecuteTime": {
     "end_time": "2021-10-28T18:41:16.929341Z",
     "start_time": "2021-10-28T18:41:16.924663Z"
    },
    "colab": {
     "base_uri": "https://localhost:8080/"
    },
    "execution": {
     "iopub.execute_input": "2023-12-12T14:07:09.776696Z",
     "iopub.status.busy": "2023-12-12T14:07:09.775975Z",
     "iopub.status.idle": "2023-12-12T14:07:09.802785Z",
     "shell.execute_reply": "2023-12-12T14:07:09.801930Z",
     "shell.execute_reply.started": "2023-12-12T14:07:09.776664Z"
    },
    "id": "d9f25a3f",
    "outputId": "6f9a3700-4420-4345-8331-82f7207b566b"
   },
   "outputs": [
    {
     "name": "stdout",
     "output_type": "stream",
     "text": [
      "Model: \"model_7\"\n",
      "__________________________________________________________________________________________________\n",
      " Layer (type)                Output Shape                 Param #   Connected to                  \n",
      "==================================================================================================\n",
      " input_14 (InputLayer)       [(None, 19)]                 0         []                            \n",
      "                                                                                                  \n",
      " input_15 (InputLayer)       [(None, 6897)]               0         []                            \n",
      "                                                                                                  \n",
      " input_16 (InputLayer)       [(None, 8588)]               0         []                            \n",
      "                                                                                                  \n",
      " input_17 (InputLayer)       [(None, 8588)]               0         []                            \n",
      "                                                                                                  \n",
      " model_6 (Functional)        (None, 128)                  934400    ['input_14[0][0]',            \n",
      "                                                                     'input_15[0][0]']            \n",
      "                                                                                                  \n",
      " model_5 (Functional)        (None, 128)                  1132032   ['input_16[0][0]',            \n",
      "                                                                     'input_17[0][0]']            \n",
      "                                                                                                  \n",
      " concat_ancor_pos_neg (Conc  (None, 384)                  0         ['model_6[0][0]',             \n",
      " atenate)                                                            'model_5[0][0]',             \n",
      "                                                                     'model_5[1][0]']             \n",
      "                                                                                                  \n",
      "==================================================================================================\n",
      "Total params: 2066432 (7.88 MB)\n",
      "Trainable params: 2066432 (7.88 MB)\n",
      "Non-trainable params: 0 (0.00 Byte)\n",
      "__________________________________________________________________________________________________\n"
     ]
    }
   ],
   "source": [
    "# общая модель\n",
    "model.summary()"
   ]
  },
  {
   "cell_type": "code",
   "execution_count": 58,
   "id": "f7fe6b9c",
   "metadata": {
    "ExecuteTime": {
     "end_time": "2021-10-28T19:15:21.657529Z",
     "start_time": "2021-10-28T19:15:16.365923Z"
    },
    "colab": {
     "base_uri": "https://localhost:8080/"
    },
    "execution": {
     "iopub.execute_input": "2023-12-12T14:07:10.168865Z",
     "iopub.status.busy": "2023-12-12T14:07:10.168493Z",
     "iopub.status.idle": "2023-12-12T14:13:51.733513Z",
     "shell.execute_reply": "2023-12-12T14:13:51.732528Z",
     "shell.execute_reply.started": "2023-12-12T14:07:10.168837Z"
    },
    "id": "99d50830",
    "outputId": "cee25813-2173-460f-e6f2-024d75d1db08"
   },
   "outputs": [
    {
     "name": "stdout",
     "output_type": "stream",
     "text": [
      "Epoch 1/30\n",
      "100/100 [==============================] - 18s 132ms/step - loss: 0.2954 - lr: 0.0010\n",
      "Epoch 2/30\n",
      "100/100 [==============================] - 13s 132ms/step - loss: 0.2247 - lr: 0.0010\n",
      "Epoch 3/30\n",
      "100/100 [==============================] - 13s 134ms/step - loss: 0.2041 - lr: 0.0010\n",
      "Epoch 4/30\n",
      "100/100 [==============================] - 13s 134ms/step - loss: 0.1821 - lr: 0.0010\n",
      "Epoch 5/30\n",
      "100/100 [==============================] - 13s 131ms/step - loss: 0.1794 - lr: 0.0010\n",
      "Epoch 6/30\n",
      "100/100 [==============================] - 13s 134ms/step - loss: 0.1772 - lr: 0.0010\n",
      "Epoch 7/30\n",
      "100/100 [==============================] - 13s 133ms/step - loss: 0.1608 - lr: 0.0010\n",
      "Epoch 8/30\n",
      "100/100 [==============================] - 13s 132ms/step - loss: 0.1648 - lr: 0.0010\n",
      "Epoch 9/30\n",
      "100/100 [==============================] - 13s 134ms/step - loss: 0.1585 - lr: 0.0010\n",
      "Epoch 10/30\n",
      "100/100 [==============================] - 13s 132ms/step - loss: 0.1489 - lr: 0.0010\n",
      "Epoch 11/30\n",
      "100/100 [==============================] - 13s 132ms/step - loss: 0.1499 - lr: 0.0010\n",
      "Epoch 12/30\n",
      "100/100 [==============================] - 13s 134ms/step - loss: 0.1473 - lr: 0.0010\n",
      "Epoch 13/30\n",
      "100/100 [==============================] - 13s 133ms/step - loss: 0.1432 - lr: 0.0010\n",
      "Epoch 14/30\n",
      "100/100 [==============================] - 13s 133ms/step - loss: 0.1412 - lr: 0.0010\n",
      "Epoch 15/30\n",
      "100/100 [==============================] - 13s 136ms/step - loss: 0.1404 - lr: 0.0010\n",
      "Epoch 16/30\n",
      "100/100 [==============================] - 13s 133ms/step - loss: 0.1415 - lr: 0.0010\n",
      "Epoch 17/30\n",
      "100/100 [==============================] - 13s 133ms/step - loss: 0.1343 - lr: 0.0010\n",
      "Epoch 18/30\n",
      "100/100 [==============================] - 13s 132ms/step - loss: 0.1363 - lr: 0.0010\n",
      "Epoch 19/30\n",
      "100/100 [==============================] - ETA: 0s - loss: 0.1347\n",
      "Epoch 19: ReduceLROnPlateau reducing learning rate to 0.000800000037997961.\n",
      "100/100 [==============================] - 14s 137ms/step - loss: 0.1347 - lr: 0.0010\n",
      "Epoch 20/30\n",
      "100/100 [==============================] - 13s 133ms/step - loss: 0.1315 - lr: 8.0000e-04\n",
      "Epoch 21/30\n",
      "100/100 [==============================] - 13s 132ms/step - loss: 0.1267 - lr: 8.0000e-04\n",
      "Epoch 22/30\n",
      "100/100 [==============================] - 13s 134ms/step - loss: 0.1268 - lr: 8.0000e-04\n",
      "Epoch 23/30\n",
      "100/100 [==============================] - 13s 133ms/step - loss: 0.1235 - lr: 8.0000e-04\n",
      "Epoch 24/30\n",
      "100/100 [==============================] - 13s 134ms/step - loss: 0.1275 - lr: 8.0000e-04\n",
      "Epoch 25/30\n",
      "100/100 [==============================] - 13s 134ms/step - loss: 0.1231 - lr: 8.0000e-04\n",
      "Epoch 26/30\n",
      "100/100 [==============================] - 13s 134ms/step - loss: 0.1192 - lr: 8.0000e-04\n",
      "Epoch 27/30\n",
      "100/100 [==============================] - 13s 132ms/step - loss: 0.1196 - lr: 8.0000e-04\n",
      "Epoch 28/30\n",
      "100/100 [==============================] - ETA: 0s - loss: 0.1211\n",
      "Epoch 28: ReduceLROnPlateau reducing learning rate to 0.0006400000303983689.\n",
      "100/100 [==============================] - 13s 134ms/step - loss: 0.1211 - lr: 8.0000e-04\n",
      "Epoch 29/30\n",
      "100/100 [==============================] - 13s 133ms/step - loss: 0.1187 - lr: 6.4000e-04\n",
      "Epoch 30/30\n",
      "100/100 [==============================] - 13s 132ms/step - loss: 0.1123 - lr: 6.4000e-04\n"
     ]
    },
    {
     "data": {
      "text/plain": [
       "<keras.src.callbacks.History at 0x7a7f019df5e0>"
      ]
     },
     "execution_count": 58,
     "metadata": {},
     "output_type": "execute_result"
    }
   ],
   "source": [
    "# начинаем обучение, не забывая дропнуть столбцы item_id и user_id \n",
    "# из датафреймов при инициализации генератора.\n",
    "\n",
    "# batch_size можно (и лучше) поставить побольше, если вы не органичены в ресурсах\n",
    "\n",
    "model.fit(generator(items=items_ohe_df.drop([\"item_id\"], axis=1), \n",
    "                    users=users_ohe_df.drop([\"user_id\"], axis=1), \n",
    "                    interactions=interactions_vec,\n",
    "                    batch_size=64), \n",
    "          steps_per_epoch=100, \n",
    "          epochs=30, \n",
    "          initial_epoch=0,\n",
    "          callbacks=[decay, t_board, check]\n",
    ")"
   ]
  },
  {
   "cell_type": "code",
   "execution_count": 86,
   "id": "a998c1d5",
   "metadata": {
    "ExecuteTime": {
     "end_time": "2021-10-28T19:15:26.511958Z",
     "start_time": "2021-10-28T19:15:26.151899Z"
    },
    "colab": {
     "base_uri": "https://localhost:8080/"
    },
    "execution": {
     "iopub.execute_input": "2023-12-12T14:19:21.077093Z",
     "iopub.status.busy": "2023-12-12T14:19:21.076192Z",
     "iopub.status.idle": "2023-12-12T14:19:21.250480Z",
     "shell.execute_reply": "2023-12-12T14:19:21.249609Z",
     "shell.execute_reply.started": "2023-12-12T14:19:21.077057Z"
    },
    "id": "94d23f62",
    "outputId": "4a500ea7-fa38-4455-a51a-2bd0113fa2f2"
   },
   "outputs": [
    {
     "name": "stdout",
     "output_type": "stream",
     "text": [
      "1/1 [==============================] - 0s 24ms/step\n",
      "1/1 [==============================] - 0s 19ms/step\n"
     ]
    },
    {
     "data": {
      "text/plain": [
       "array([[1.9413333]], dtype=float32)"
      ]
     },
     "execution_count": 86,
     "metadata": {},
     "output_type": "execute_result"
    }
   ],
   "source": [
    "# берем рандомного юзера\n",
    "rand_uid = np.random.choice(list(users_ohe_df.index))\n",
    "\n",
    "# получаем фичи юзера и вектор его просмотров айтемов\n",
    "user_meta_feats = users_ohe_df.drop([\"user_id\"], axis=1).iloc[rand_uid]\n",
    "user_interaction_vec = interactions_vec[rand_uid]\n",
    "\n",
    "# берем рандомный айтем\n",
    "rand_iid = np.random.choice(list(items_ohe_df.index))\n",
    "# получаем фичи айтема\n",
    "item_feats = items_ohe_df.drop([\"item_id\"], axis=1).iloc[rand_iid]\n",
    "\n",
    "# получаем вектор юзера\n",
    "user_vec = u2v.predict([np.array(user_meta_feats).reshape(1, -1), \n",
    "                        np.array(user_interaction_vec).reshape(1, -1)])\n",
    "\n",
    "# и вектор айтема\n",
    "item_vec = i2v.predict(np.array(item_feats).reshape(1, -1))\n",
    "\n",
    "# считаем расстояние между вектором юзера и вектором айтема\n",
    "from sklearn.metrics.pairwise import euclidean_distances as ED\n",
    "\n",
    "ED(user_vec, item_vec)"
   ]
  },
  {
   "cell_type": "code",
   "execution_count": 61,
   "id": "aa147572",
   "metadata": {
    "ExecuteTime": {
     "end_time": "2021-10-28T19:15:28.951471Z",
     "start_time": "2021-10-28T19:15:27.763367Z"
    },
    "colab": {
     "base_uri": "https://localhost:8080/"
    },
    "execution": {
     "iopub.execute_input": "2023-12-12T14:14:54.706246Z",
     "iopub.status.busy": "2023-12-12T14:14:54.705860Z",
     "iopub.status.idle": "2023-12-12T14:14:55.405349Z",
     "shell.execute_reply": "2023-12-12T14:14:55.403817Z",
     "shell.execute_reply.started": "2023-12-12T14:14:54.706200Z"
    },
    "id": "d537d3e8",
    "outputId": "6bdce370-c348-4f0b-cd4f-3cbb0ec3d019"
   },
   "outputs": [
    {
     "name": "stdout",
     "output_type": "stream",
     "text": [
      "216/216 [==============================] - 0s 1ms/step\n"
     ]
    }
   ],
   "source": [
    "# получаем фичи всех айтемов\n",
    "items_feats = items_ohe_df.drop([\"item_id\"], axis=1).to_numpy()\n",
    "# получаем векторы всех айтемов\n",
    "items_vecs = i2v.predict(items_feats)\n",
    "\n",
    "# считаем расстояния\n",
    "dists = ED(user_vec, items_vecs)"
   ]
  },
  {
   "cell_type": "code",
   "execution_count": 87,
   "id": "b6fef182",
   "metadata": {
    "colab": {
     "base_uri": "https://localhost:8080/"
    },
    "execution": {
     "iopub.execute_input": "2023-12-12T14:19:31.313103Z",
     "iopub.status.busy": "2023-12-12T14:19:31.312197Z",
     "iopub.status.idle": "2023-12-12T14:19:31.319082Z",
     "shell.execute_reply": "2023-12-12T14:19:31.317911Z",
     "shell.execute_reply.started": "2023-12-12T14:19:31.313068Z"
    },
    "id": "udY36b_l0okL",
    "outputId": "53287102-2434-490e-d668-b8085515d4b8"
   },
   "outputs": [
    {
     "data": {
      "text/plain": [
       "(6897, 128)"
      ]
     },
     "execution_count": 87,
     "metadata": {},
     "output_type": "execute_result"
    }
   ],
   "source": [
    "items_vecs.shape"
   ]
  },
  {
   "cell_type": "code",
   "execution_count": 88,
   "id": "54efcc5b",
   "metadata": {
    "execution": {
     "iopub.execute_input": "2023-12-12T14:19:35.412724Z",
     "iopub.status.busy": "2023-12-12T14:19:35.411745Z",
     "iopub.status.idle": "2023-12-12T14:19:35.419674Z",
     "shell.execute_reply": "2023-12-12T14:19:35.418478Z",
     "shell.execute_reply.started": "2023-12-12T14:19:35.412679Z"
    },
    "id": "XasFl6RN0snT"
   },
   "outputs": [],
   "source": [
    "users_meta_feats = users_ohe_df.drop([\"user_id\"], axis=1)\n",
    "users_interaction_vec = interactions_vec"
   ]
  },
  {
   "cell_type": "code",
   "execution_count": 89,
   "id": "213644cd",
   "metadata": {
    "colab": {
     "base_uri": "https://localhost:8080/"
    },
    "execution": {
     "iopub.execute_input": "2023-12-12T14:19:35.613756Z",
     "iopub.status.busy": "2023-12-12T14:19:35.612888Z",
     "iopub.status.idle": "2023-12-12T14:19:35.620501Z",
     "shell.execute_reply": "2023-12-12T14:19:35.619510Z",
     "shell.execute_reply.started": "2023-12-12T14:19:35.613711Z"
    },
    "id": "cntEZU450_MI",
    "outputId": "c9aace32-281a-4b0e-8e0d-8b0f1088ce9b"
   },
   "outputs": [
    {
     "data": {
      "text/plain": [
       "(65974, 19)"
      ]
     },
     "execution_count": 89,
     "metadata": {},
     "output_type": "execute_result"
    }
   ],
   "source": [
    "users_meta_feats.shape"
   ]
  },
  {
   "cell_type": "code",
   "execution_count": 65,
   "id": "86083157",
   "metadata": {
    "colab": {
     "base_uri": "https://localhost:8080/"
    },
    "execution": {
     "iopub.execute_input": "2023-12-12T14:14:59.884367Z",
     "iopub.status.busy": "2023-12-12T14:14:59.883425Z",
     "iopub.status.idle": "2023-12-12T14:14:59.891126Z",
     "shell.execute_reply": "2023-12-12T14:14:59.890271Z",
     "shell.execute_reply.started": "2023-12-12T14:14:59.884317Z"
    },
    "id": "kQ1EZolS1B1Y",
    "outputId": "ca9dc5eb-5519-4c75-f1d8-4945941a46d1"
   },
   "outputs": [
    {
     "data": {
      "text/plain": [
       "(65974, 6897)"
      ]
     },
     "execution_count": 65,
     "metadata": {},
     "output_type": "execute_result"
    }
   ],
   "source": [
    "users_interaction_vec.shape"
   ]
  },
  {
   "cell_type": "code",
   "execution_count": 66,
   "id": "a6ad2e0d",
   "metadata": {
    "colab": {
     "base_uri": "https://localhost:8080/"
    },
    "execution": {
     "iopub.execute_input": "2023-12-12T14:15:00.591952Z",
     "iopub.status.busy": "2023-12-12T14:15:00.591526Z",
     "iopub.status.idle": "2023-12-12T14:15:00.599236Z",
     "shell.execute_reply": "2023-12-12T14:15:00.597990Z",
     "shell.execute_reply.started": "2023-12-12T14:15:00.591914Z"
    },
    "id": "hKU4MD7M1dp5",
    "outputId": "bd79e8e2-8a82-4ff7-d1ac-849e3425c2c8"
   },
   "outputs": [
    {
     "data": {
      "text/plain": [
       "(65974, 19)"
      ]
     },
     "execution_count": 66,
     "metadata": {},
     "output_type": "execute_result"
    }
   ],
   "source": [
    "np.array(users_meta_feats).shape"
   ]
  },
  {
   "cell_type": "code",
   "execution_count": 90,
   "id": "e5b23a0c",
   "metadata": {
    "colab": {
     "base_uri": "https://localhost:8080/"
    },
    "execution": {
     "iopub.execute_input": "2023-12-12T14:19:50.880781Z",
     "iopub.status.busy": "2023-12-12T14:19:50.880415Z",
     "iopub.status.idle": "2023-12-12T14:20:01.337191Z",
     "shell.execute_reply": "2023-12-12T14:20:01.336374Z",
     "shell.execute_reply.started": "2023-12-12T14:19:50.880751Z"
    },
    "id": "x16g5FM21XGJ",
    "outputId": "9b43e3e6-f98b-466a-8b0d-c2aeb0ca724e"
   },
   "outputs": [
    {
     "name": "stdout",
     "output_type": "stream",
     "text": [
      "2062/2062 [==============================] - 3s 2ms/step\n"
     ]
    }
   ],
   "source": [
    "users_vec = u2v.predict([np.array(users_meta_feats), \n",
    "                        np.array(users_interaction_vec)])"
   ]
  },
  {
   "cell_type": "code",
   "execution_count": 68,
   "id": "cce9e95b",
   "metadata": {
    "colab": {
     "base_uri": "https://localhost:8080/"
    },
    "execution": {
     "iopub.execute_input": "2023-12-12T14:15:32.907290Z",
     "iopub.status.busy": "2023-12-12T14:15:32.906932Z",
     "iopub.status.idle": "2023-12-12T14:15:32.913035Z",
     "shell.execute_reply": "2023-12-12T14:15:32.912137Z",
     "shell.execute_reply.started": "2023-12-12T14:15:32.907263Z"
    },
    "id": "2S-IAoJZ1x_N",
    "outputId": "f32845ce-f2ce-47f6-e0c8-a817328e3339"
   },
   "outputs": [
    {
     "data": {
      "text/plain": [
       "(65974, 128)"
      ]
     },
     "execution_count": 68,
     "metadata": {},
     "output_type": "execute_result"
    }
   ],
   "source": [
    "users_vec.shape"
   ]
  },
  {
   "cell_type": "code",
   "execution_count": 91,
   "id": "c90e7d46",
   "metadata": {
    "colab": {
     "base_uri": "https://localhost:8080/"
    },
    "execution": {
     "iopub.execute_input": "2023-12-12T14:20:59.583973Z",
     "iopub.status.busy": "2023-12-12T14:20:59.583604Z",
     "iopub.status.idle": "2023-12-12T14:20:59.590161Z",
     "shell.execute_reply": "2023-12-12T14:20:59.589132Z",
     "shell.execute_reply.started": "2023-12-12T14:20:59.583945Z"
    },
    "id": "G4pntPu10ogl",
    "outputId": "557b6f56-dff5-46e9-da97-569001c59c79"
   },
   "outputs": [
    {
     "data": {
      "text/plain": [
       "(6897, 128)"
      ]
     },
     "execution_count": 91,
     "metadata": {},
     "output_type": "execute_result"
    }
   ],
   "source": [
    "items_vecs.shape"
   ]
  },
  {
   "cell_type": "code",
   "execution_count": 92,
   "id": "cef6c854",
   "metadata": {
    "execution": {
     "iopub.execute_input": "2023-12-12T14:20:59.809163Z",
     "iopub.status.busy": "2023-12-12T14:20:59.808295Z",
     "iopub.status.idle": "2023-12-12T14:21:04.939497Z",
     "shell.execute_reply": "2023-12-12T14:21:04.938535Z",
     "shell.execute_reply.started": "2023-12-12T14:20:59.809128Z"
    },
    "id": "hnUX3Yte2Jcw"
   },
   "outputs": [],
   "source": [
    "dists = ED(users_vec, items_vecs)"
   ]
  },
  {
   "cell_type": "code",
   "execution_count": 93,
   "id": "8ef54155",
   "metadata": {
    "colab": {
     "base_uri": "https://localhost:8080/"
    },
    "execution": {
     "iopub.execute_input": "2023-12-12T14:21:04.941783Z",
     "iopub.status.busy": "2023-12-12T14:21:04.941419Z",
     "iopub.status.idle": "2023-12-12T14:21:04.948824Z",
     "shell.execute_reply": "2023-12-12T14:21:04.947778Z",
     "shell.execute_reply.started": "2023-12-12T14:21:04.941748Z"
    },
    "id": "MDgiwnnu2KHk",
    "outputId": "ae9eeb6f-8a29-4195-8bdf-eeaa51b6d049"
   },
   "outputs": [
    {
     "data": {
      "text/plain": [
       "(65974, 6897)"
      ]
     },
     "execution_count": 93,
     "metadata": {},
     "output_type": "execute_result"
    }
   ],
   "source": [
    "dists.shape"
   ]
  },
  {
   "cell_type": "code",
   "execution_count": 94,
   "id": "060b5cf6",
   "metadata": {
    "execution": {
     "iopub.execute_input": "2023-12-12T14:21:04.951362Z",
     "iopub.status.busy": "2023-12-12T14:21:04.950311Z",
     "iopub.status.idle": "2023-12-12T14:21:33.611813Z",
     "shell.execute_reply": "2023-12-12T14:21:33.611011Z",
     "shell.execute_reply.started": "2023-12-12T14:21:04.951327Z"
    },
    "id": "Ru8IQwSV2UrB"
   },
   "outputs": [],
   "source": [
    "top10_iids = np.argsort(dists, axis=1)[:,:10]"
   ]
  },
  {
   "cell_type": "code",
   "execution_count": 95,
   "id": "ec3a006e",
   "metadata": {
    "colab": {
     "base_uri": "https://localhost:8080/"
    },
    "execution": {
     "iopub.execute_input": "2023-12-12T14:21:33.617173Z",
     "iopub.status.busy": "2023-12-12T14:21:33.616397Z",
     "iopub.status.idle": "2023-12-12T14:21:33.622854Z",
     "shell.execute_reply": "2023-12-12T14:21:33.621972Z",
     "shell.execute_reply.started": "2023-12-12T14:21:33.617144Z"
    },
    "id": "pAzg23jU3TSo",
    "outputId": "baeb6ea9-ca6f-4bb9-da7b-3fc16669db23"
   },
   "outputs": [
    {
     "data": {
      "text/plain": [
       "(65974, 10)"
      ]
     },
     "execution_count": 95,
     "metadata": {},
     "output_type": "execute_result"
    }
   ],
   "source": [
    "top10_iids.reshape(dists.shape[0], 10).shape"
   ]
  },
  {
   "cell_type": "code",
   "execution_count": 104,
   "id": "722d673a",
   "metadata": {
    "colab": {
     "base_uri": "https://localhost:8080/"
    },
    "execution": {
     "iopub.execute_input": "2023-12-12T14:22:43.283089Z",
     "iopub.status.busy": "2023-12-12T14:22:43.282321Z",
     "iopub.status.idle": "2023-12-12T14:22:43.293522Z",
     "shell.execute_reply": "2023-12-12T14:22:43.292547Z",
     "shell.execute_reply.started": "2023-12-12T14:22:43.283054Z"
    },
    "id": "l-yXdzmg7dlM",
    "outputId": "66f9b341-1fa2-4c0f-c3a4-cb5ec388483c"
   },
   "outputs": [
    {
     "data": {
      "text/plain": [
       "array([[6751, 2227, 3868, ..., 5297, 5489, 2325],\n",
       "       [1533, 3574, 3067, ..., 4461, 2271, 4320],\n",
       "       [1533, 3574, 2271, ..., 5418, 2653, 6403],\n",
       "       ...,\n",
       "       [6253,  228, 1292, ..., 1447, 6751, 5489],\n",
       "       [5048, 1533, 1849, ...,  732, 6482,  464],\n",
       "       [ 746, 3804, 2354, ..., 4001,   32, 1617]])"
      ]
     },
     "execution_count": 104,
     "metadata": {},
     "output_type": "execute_result"
    }
   ],
   "source": [
    "top10_iids"
   ]
  },
  {
   "cell_type": "code",
   "execution_count": 97,
   "id": "ccee3714",
   "metadata": {
    "colab": {
     "base_uri": "https://localhost:8080/"
    },
    "execution": {
     "iopub.execute_input": "2023-12-12T14:22:32.961598Z",
     "iopub.status.busy": "2023-12-12T14:22:32.961209Z",
     "iopub.status.idle": "2023-12-12T14:22:32.967716Z",
     "shell.execute_reply": "2023-12-12T14:22:32.966791Z",
     "shell.execute_reply.started": "2023-12-12T14:22:32.961567Z"
    },
    "id": "ehH1-C-S6yE9",
    "outputId": "5a08578e-7bc1-404a-db00-5d2114b7ad28"
   },
   "outputs": [
    {
     "data": {
      "text/plain": [
       "(65974, 10)"
      ]
     },
     "execution_count": 97,
     "metadata": {},
     "output_type": "execute_result"
    }
   ],
   "source": [
    "top10_iids.shape"
   ]
  },
  {
   "cell_type": "code",
   "execution_count": 105,
   "id": "cc267814",
   "metadata": {
    "execution": {
     "iopub.execute_input": "2023-12-12T14:23:00.961194Z",
     "iopub.status.busy": "2023-12-12T14:23:00.960828Z",
     "iopub.status.idle": "2023-12-12T14:23:01.161215Z",
     "shell.execute_reply": "2023-12-12T14:23:01.160422Z",
     "shell.execute_reply.started": "2023-12-12T14:23:00.961164Z"
    },
    "id": "srptkYsFsk1V"
   },
   "outputs": [],
   "source": [
    "top10_iids_item = [iid_to_item_id[iid] for iid in top10_iids.reshape(-1)]"
   ]
  },
  {
   "cell_type": "code",
   "execution_count": 106,
   "id": "3d9ad960",
   "metadata": {
    "execution": {
     "iopub.execute_input": "2023-12-12T14:23:01.709271Z",
     "iopub.status.busy": "2023-12-12T14:23:01.708806Z",
     "iopub.status.idle": "2023-12-12T14:23:01.771046Z",
     "shell.execute_reply": "2023-12-12T14:23:01.770067Z",
     "shell.execute_reply.started": "2023-12-12T14:23:01.709208Z"
    },
    "id": "GWCz9zErskwn"
   },
   "outputs": [],
   "source": [
    "top10_iids_item = np.array(top10_iids_item).reshape(top10_iids.shape)"
   ]
  },
  {
   "cell_type": "code",
   "execution_count": 107,
   "id": "c54a2863",
   "metadata": {
    "colab": {
     "base_uri": "https://localhost:8080/"
    },
    "execution": {
     "iopub.execute_input": "2023-12-12T14:23:01.772885Z",
     "iopub.status.busy": "2023-12-12T14:23:01.772599Z",
     "iopub.status.idle": "2023-12-12T14:23:01.782920Z",
     "shell.execute_reply": "2023-12-12T14:23:01.782075Z",
     "shell.execute_reply.started": "2023-12-12T14:23:01.772860Z"
    },
    "id": "pNq_brUisknx",
    "outputId": "f1980332-ef9e-4920-b470-675a567c815a"
   },
   "outputs": [
    {
     "data": {
      "text/plain": [
       "(65974, 10)"
      ]
     },
     "execution_count": 107,
     "metadata": {},
     "output_type": "execute_result"
    }
   ],
   "source": [
    "top10_iids_item.shape"
   ]
  },
  {
   "cell_type": "code",
   "execution_count": 108,
   "id": "a9e16f22",
   "metadata": {
    "execution": {
     "iopub.execute_input": "2023-12-12T14:23:02.099088Z",
     "iopub.status.busy": "2023-12-12T14:23:02.098708Z",
     "iopub.status.idle": "2023-12-12T14:23:02.104172Z",
     "shell.execute_reply": "2023-12-12T14:23:02.103300Z",
     "shell.execute_reply.started": "2023-12-12T14:23:02.099056Z"
    },
    "id": "z6ussvRSth2h"
   },
   "outputs": [],
   "source": [
    "df_dssm = pd.DataFrame(columns = ['user_id', 'item_id'])"
   ]
  },
  {
   "cell_type": "code",
   "execution_count": 110,
   "id": "198cf077",
   "metadata": {
    "execution": {
     "iopub.execute_input": "2023-12-12T14:23:08.498839Z",
     "iopub.status.busy": "2023-12-12T14:23:08.498093Z",
     "iopub.status.idle": "2023-12-12T14:23:08.571181Z",
     "shell.execute_reply": "2023-12-12T14:23:08.570360Z",
     "shell.execute_reply.started": "2023-12-12T14:23:08.498805Z"
    },
    "id": "KieINSdwvIu7"
   },
   "outputs": [],
   "source": [
    "df_dssm = pd.DataFrame({'user_id': [uid_to_user_id[uid] for uid in np.arange(top10_iids_item.shape[0])]})"
   ]
  },
  {
   "cell_type": "code",
   "execution_count": 111,
   "id": "7fbaa6e5",
   "metadata": {
    "execution": {
     "iopub.execute_input": "2023-12-12T14:23:08.850385Z",
     "iopub.status.busy": "2023-12-12T14:23:08.849373Z",
     "iopub.status.idle": "2023-12-12T14:23:08.883347Z",
     "shell.execute_reply": "2023-12-12T14:23:08.882299Z",
     "shell.execute_reply.started": "2023-12-12T14:23:08.850348Z"
    },
    "id": "RSYHUj7IuzT1"
   },
   "outputs": [],
   "source": [
    "df_dssm['item_id'] = list(top10_iids_item)"
   ]
  },
  {
   "cell_type": "code",
   "execution_count": 112,
   "id": "83796cf0",
   "metadata": {
    "execution": {
     "iopub.execute_input": "2023-12-12T14:23:10.648019Z",
     "iopub.status.busy": "2023-12-12T14:23:10.647672Z",
     "iopub.status.idle": "2023-12-12T14:23:12.649671Z",
     "shell.execute_reply": "2023-12-12T14:23:12.648871Z",
     "shell.execute_reply.started": "2023-12-12T14:23:10.647994Z"
    },
    "id": "xdPs4HY874OZ"
   },
   "outputs": [],
   "source": [
    "df_dssm = df_dssm.explode('item_id')\n",
    "df_dssm['rank'] = df_dssm.groupby('user_id').cumcount() + 1\n",
    "df_dssm = df_dssm.groupby('user_id').agg({'item_id': list}).reset_index()"
   ]
  },
  {
   "cell_type": "code",
   "execution_count": 116,
   "id": "66b9508f",
   "metadata": {
    "execution": {
     "iopub.execute_input": "2023-12-12T14:23:50.021331Z",
     "iopub.status.busy": "2023-12-12T14:23:50.020902Z",
     "iopub.status.idle": "2023-12-12T14:23:50.968170Z",
     "shell.execute_reply": "2023-12-12T14:23:50.967370Z",
     "shell.execute_reply.started": "2023-12-12T14:23:50.021296Z"
    }
   },
   "outputs": [],
   "source": [
    "df_dssm.to_csv('baselinedsmm.csv')"
   ]
  },
  {
   "cell_type": "code",
   "execution_count": 125,
   "id": "4fed47d8",
   "metadata": {
    "execution": {
     "iopub.execute_input": "2023-12-12T14:27:04.354667Z",
     "iopub.status.busy": "2023-12-12T14:27:04.354302Z",
     "iopub.status.idle": "2023-12-12T14:27:04.608612Z",
     "shell.execute_reply": "2023-12-12T14:27:04.607596Z",
     "shell.execute_reply.started": "2023-12-12T14:27:04.354640Z"
    },
    "id": "AdemLnuJ9q5E"
   },
   "outputs": [],
   "source": [
    "submission = pd.read_csv('/kaggle/input/kion-dataset/sample_submission.csv')"
   ]
  },
  {
   "cell_type": "code",
   "execution_count": 126,
   "id": "56af6d47",
   "metadata": {
    "execution": {
     "iopub.execute_input": "2023-12-12T14:27:05.837377Z",
     "iopub.status.busy": "2023-12-12T14:27:05.836975Z",
     "iopub.status.idle": "2023-12-12T14:27:05.850677Z",
     "shell.execute_reply": "2023-12-12T14:27:05.849591Z",
     "shell.execute_reply.started": "2023-12-12T14:27:05.837345Z"
    },
    "id": "dc2MF0DHv_rW"
   },
   "outputs": [],
   "source": [
    "df_dssm_subm = df_dssm[df_dssm['user_id'].isin(submission['user_id'])]"
   ]
  },
  {
   "cell_type": "code",
   "execution_count": 128,
   "id": "0ed5f0cb",
   "metadata": {
    "execution": {
     "iopub.execute_input": "2023-12-12T14:27:09.844054Z",
     "iopub.status.busy": "2023-12-12T14:27:09.843660Z",
     "iopub.status.idle": "2023-12-12T14:27:09.898070Z",
     "shell.execute_reply": "2023-12-12T14:27:09.897281Z",
     "shell.execute_reply.started": "2023-12-12T14:27:09.844022Z"
    },
    "id": "Tn2W3uue-Mqi"
   },
   "outputs": [],
   "source": [
    "df_dssm_subm = df_dssm_subm.explode('item_id')\n",
    "df_dssm_subm['rank'] = df_dssm_subm.groupby('user_id').cumcount() + 1"
   ]
  },
  {
   "cell_type": "code",
   "execution_count": 129,
   "id": "dd8a22ad",
   "metadata": {
    "colab": {
     "base_uri": "https://localhost:8080/",
     "height": 206
    },
    "execution": {
     "iopub.execute_input": "2023-12-12T14:27:12.002327Z",
     "iopub.status.busy": "2023-12-12T14:27:12.001892Z",
     "iopub.status.idle": "2023-12-12T14:27:12.013385Z",
     "shell.execute_reply": "2023-12-12T14:27:12.012283Z",
     "shell.execute_reply.started": "2023-12-12T14:27:12.002291Z"
    },
    "id": "ZcRyhwy2-Xos",
    "outputId": "67925446-1452-49c8-8f7f-466f9a20ebfc"
   },
   "outputs": [
    {
     "data": {
      "text/html": [
       "<div>\n",
       "<style scoped>\n",
       "    .dataframe tbody tr th:only-of-type {\n",
       "        vertical-align: middle;\n",
       "    }\n",
       "\n",
       "    .dataframe tbody tr th {\n",
       "        vertical-align: top;\n",
       "    }\n",
       "\n",
       "    .dataframe thead th {\n",
       "        text-align: right;\n",
       "    }\n",
       "</style>\n",
       "<table border=\"1\" class=\"dataframe\">\n",
       "  <thead>\n",
       "    <tr style=\"text-align: right;\">\n",
       "      <th></th>\n",
       "      <th>user_id</th>\n",
       "      <th>item_id</th>\n",
       "      <th>rank</th>\n",
       "    </tr>\n",
       "  </thead>\n",
       "  <tbody>\n",
       "    <tr>\n",
       "      <th>5</th>\n",
       "      <td>93</td>\n",
       "      <td>3734</td>\n",
       "      <td>1</td>\n",
       "    </tr>\n",
       "    <tr>\n",
       "      <th>5</th>\n",
       "      <td>93</td>\n",
       "      <td>8636</td>\n",
       "      <td>2</td>\n",
       "    </tr>\n",
       "    <tr>\n",
       "      <th>5</th>\n",
       "      <td>93</td>\n",
       "      <td>4457</td>\n",
       "      <td>3</td>\n",
       "    </tr>\n",
       "    <tr>\n",
       "      <th>5</th>\n",
       "      <td>93</td>\n",
       "      <td>1844</td>\n",
       "      <td>4</td>\n",
       "    </tr>\n",
       "    <tr>\n",
       "      <th>5</th>\n",
       "      <td>93</td>\n",
       "      <td>3935</td>\n",
       "      <td>5</td>\n",
       "    </tr>\n",
       "  </tbody>\n",
       "</table>\n",
       "</div>"
      ],
      "text/plain": [
       "   user_id item_id  rank\n",
       "5       93    3734     1\n",
       "5       93    8636     2\n",
       "5       93    4457     3\n",
       "5       93    1844     4\n",
       "5       93    3935     5"
      ]
     },
     "execution_count": 129,
     "metadata": {},
     "output_type": "execute_result"
    }
   ],
   "source": [
    "df_dssm_subm.head()"
   ]
  },
  {
   "cell_type": "code",
   "execution_count": 130,
   "id": "6ec58a88",
   "metadata": {
    "execution": {
     "iopub.execute_input": "2023-12-12T14:27:14.613758Z",
     "iopub.status.busy": "2023-12-12T14:27:14.613030Z",
     "iopub.status.idle": "2023-12-12T14:27:14.621789Z",
     "shell.execute_reply": "2023-12-12T14:27:14.620804Z",
     "shell.execute_reply.started": "2023-12-12T14:27:14.613721Z"
    },
    "id": "AeLHA1sCp3lF"
   },
   "outputs": [],
   "source": [
    "class PopularRecommender():\n",
    "    def __init__(self, max_K=10, days=30, item_column='item_id', dt_column='date'):\n",
    "        self.max_K = max_K\n",
    "        self.days = days\n",
    "        self.item_column = item_column\n",
    "        self.dt_column = dt_column\n",
    "        self.recommendations = []\n",
    "        \n",
    "    def fit(self, df, ):\n",
    "        min_date = df[self.dt_column].max().normalize() - pd.DateOffset(days=self.days)\n",
    "        self.recommendations = df.loc[df[self.dt_column] > min_date, self.item_column].value_counts().head(self.max_K).index.values\n",
    "    \n",
    "    def recommend(self, users=None, N=10):\n",
    "        recs = self.recommendations[:N]\n",
    "        if users is None:\n",
    "            return recs\n",
    "        else:\n",
    "            return list(islice(cycle([recs]), len(users)))"
   ]
  },
  {
   "cell_type": "code",
   "execution_count": 131,
   "id": "5612749b",
   "metadata": {
    "execution": {
     "iopub.execute_input": "2023-12-12T14:27:17.306819Z",
     "iopub.status.busy": "2023-12-12T14:27:17.306451Z",
     "iopub.status.idle": "2023-12-12T14:27:21.982273Z",
     "shell.execute_reply": "2023-12-12T14:27:21.981198Z",
     "shell.execute_reply.started": "2023-12-12T14:27:17.306788Z"
    },
    "id": "YJVXsawK-iGZ"
   },
   "outputs": [],
   "source": [
    "interactions_df = pd.read_csv('/kaggle/input/processed/interactions_processed_kion.csv', parse_dates=['last_watch_dt'])"
   ]
  },
  {
   "cell_type": "code",
   "execution_count": 132,
   "id": "bd8522c4",
   "metadata": {
    "execution": {
     "iopub.execute_input": "2023-12-12T14:27:21.984267Z",
     "iopub.status.busy": "2023-12-12T14:27:21.983932Z",
     "iopub.status.idle": "2023-12-12T14:27:21.988990Z",
     "shell.execute_reply": "2023-12-12T14:27:21.987812Z",
     "shell.execute_reply.started": "2023-12-12T14:27:21.984215Z"
    },
    "id": "nG0ggrAK-tTC"
   },
   "outputs": [],
   "source": [
    "from itertools import islice, cycle"
   ]
  },
  {
   "cell_type": "code",
   "execution_count": 134,
   "id": "a0bc7c90",
   "metadata": {
    "execution": {
     "iopub.execute_input": "2023-12-12T14:27:32.893958Z",
     "iopub.status.busy": "2023-12-12T14:27:32.893102Z",
     "iopub.status.idle": "2023-12-12T14:27:33.627246Z",
     "shell.execute_reply": "2023-12-12T14:27:33.626436Z",
     "shell.execute_reply.started": "2023-12-12T14:27:32.893922Z"
    },
    "id": "9MbGLlIRp3N5"
   },
   "outputs": [],
   "source": [
    "train = interactions_df\n",
    "test = submission\n",
    "\n",
    "pop_model = PopularRecommender(days=10, dt_column='last_watch_dt')\n",
    "pop_model.fit(train)\n",
    "\n",
    "recs = pd.DataFrame({'user_id': test['user_id'].unique()})\n",
    "recs['item_id'] = pop_model.recommend(recs['user_id'], N=10)\n",
    "recs = recs.explode('item_id')\n",
    "recs['rank'] = recs.groupby('user_id').cumcount() + 1\n",
    "#recs = recs.groupby('user_id').agg({'item_id': list}).reset_index()"
   ]
  },
  {
   "cell_type": "code",
   "execution_count": 138,
   "id": "bc964689",
   "metadata": {
    "colab": {
     "base_uri": "https://localhost:8080/",
     "height": 206
    },
    "execution": {
     "iopub.execute_input": "2023-12-12T14:27:45.915297Z",
     "iopub.status.busy": "2023-12-12T14:27:45.914902Z",
     "iopub.status.idle": "2023-12-12T14:27:45.925863Z",
     "shell.execute_reply": "2023-12-12T14:27:45.924534Z",
     "shell.execute_reply.started": "2023-12-12T14:27:45.915263Z"
    },
    "id": "xTF3RLu9w0I7",
    "outputId": "e36511af-700e-40bf-dccf-153e4cef7cd0"
   },
   "outputs": [
    {
     "data": {
      "text/html": [
       "<div>\n",
       "<style scoped>\n",
       "    .dataframe tbody tr th:only-of-type {\n",
       "        vertical-align: middle;\n",
       "    }\n",
       "\n",
       "    .dataframe tbody tr th {\n",
       "        vertical-align: top;\n",
       "    }\n",
       "\n",
       "    .dataframe thead th {\n",
       "        text-align: right;\n",
       "    }\n",
       "</style>\n",
       "<table border=\"1\" class=\"dataframe\">\n",
       "  <thead>\n",
       "    <tr style=\"text-align: right;\">\n",
       "      <th></th>\n",
       "      <th>user_id</th>\n",
       "      <th>item_id</th>\n",
       "      <th>rank</th>\n",
       "    </tr>\n",
       "  </thead>\n",
       "  <tbody>\n",
       "    <tr>\n",
       "      <th>0</th>\n",
       "      <td>3</td>\n",
       "      <td>9728</td>\n",
       "      <td>1</td>\n",
       "    </tr>\n",
       "    <tr>\n",
       "      <th>0</th>\n",
       "      <td>3</td>\n",
       "      <td>10440</td>\n",
       "      <td>2</td>\n",
       "    </tr>\n",
       "    <tr>\n",
       "      <th>0</th>\n",
       "      <td>3</td>\n",
       "      <td>15297</td>\n",
       "      <td>3</td>\n",
       "    </tr>\n",
       "    <tr>\n",
       "      <th>0</th>\n",
       "      <td>3</td>\n",
       "      <td>13865</td>\n",
       "      <td>4</td>\n",
       "    </tr>\n",
       "    <tr>\n",
       "      <th>0</th>\n",
       "      <td>3</td>\n",
       "      <td>12360</td>\n",
       "      <td>5</td>\n",
       "    </tr>\n",
       "    <tr>\n",
       "      <th>0</th>\n",
       "      <td>3</td>\n",
       "      <td>12192</td>\n",
       "      <td>6</td>\n",
       "    </tr>\n",
       "    <tr>\n",
       "      <th>0</th>\n",
       "      <td>3</td>\n",
       "      <td>14488</td>\n",
       "      <td>7</td>\n",
       "    </tr>\n",
       "    <tr>\n",
       "      <th>0</th>\n",
       "      <td>3</td>\n",
       "      <td>4151</td>\n",
       "      <td>8</td>\n",
       "    </tr>\n",
       "    <tr>\n",
       "      <th>0</th>\n",
       "      <td>3</td>\n",
       "      <td>341</td>\n",
       "      <td>9</td>\n",
       "    </tr>\n",
       "    <tr>\n",
       "      <th>0</th>\n",
       "      <td>3</td>\n",
       "      <td>512</td>\n",
       "      <td>10</td>\n",
       "    </tr>\n",
       "  </tbody>\n",
       "</table>\n",
       "</div>"
      ],
      "text/plain": [
       "   user_id item_id  rank\n",
       "0        3    9728     1\n",
       "0        3   10440     2\n",
       "0        3   15297     3\n",
       "0        3   13865     4\n",
       "0        3   12360     5\n",
       "0        3   12192     6\n",
       "0        3   14488     7\n",
       "0        3    4151     8\n",
       "0        3     341     9\n",
       "0        3     512    10"
      ]
     },
     "execution_count": 138,
     "metadata": {},
     "output_type": "execute_result"
    }
   ],
   "source": [
    "recs.head(10)"
   ]
  },
  {
   "cell_type": "code",
   "execution_count": 139,
   "id": "fd0155a1",
   "metadata": {
    "execution": {
     "iopub.execute_input": "2023-12-12T14:27:49.306877Z",
     "iopub.status.busy": "2023-12-12T14:27:49.306097Z",
     "iopub.status.idle": "2023-12-12T14:27:49.318455Z",
     "shell.execute_reply": "2023-12-12T14:27:49.317510Z",
     "shell.execute_reply.started": "2023-12-12T14:27:49.306838Z"
    }
   },
   "outputs": [
    {
     "data": {
      "text/html": [
       "<div>\n",
       "<style scoped>\n",
       "    .dataframe tbody tr th:only-of-type {\n",
       "        vertical-align: middle;\n",
       "    }\n",
       "\n",
       "    .dataframe tbody tr th {\n",
       "        vertical-align: top;\n",
       "    }\n",
       "\n",
       "    .dataframe thead th {\n",
       "        text-align: right;\n",
       "    }\n",
       "</style>\n",
       "<table border=\"1\" class=\"dataframe\">\n",
       "  <thead>\n",
       "    <tr style=\"text-align: right;\">\n",
       "      <th></th>\n",
       "      <th>user_id</th>\n",
       "      <th>item_id</th>\n",
       "      <th>rank</th>\n",
       "    </tr>\n",
       "  </thead>\n",
       "  <tbody>\n",
       "    <tr>\n",
       "      <th>0</th>\n",
       "      <td>3</td>\n",
       "      <td>9728</td>\n",
       "      <td>1</td>\n",
       "    </tr>\n",
       "    <tr>\n",
       "      <th>0</th>\n",
       "      <td>3</td>\n",
       "      <td>10440</td>\n",
       "      <td>2</td>\n",
       "    </tr>\n",
       "    <tr>\n",
       "      <th>0</th>\n",
       "      <td>3</td>\n",
       "      <td>15297</td>\n",
       "      <td>3</td>\n",
       "    </tr>\n",
       "    <tr>\n",
       "      <th>0</th>\n",
       "      <td>3</td>\n",
       "      <td>13865</td>\n",
       "      <td>4</td>\n",
       "    </tr>\n",
       "    <tr>\n",
       "      <th>0</th>\n",
       "      <td>3</td>\n",
       "      <td>12360</td>\n",
       "      <td>5</td>\n",
       "    </tr>\n",
       "    <tr>\n",
       "      <th>...</th>\n",
       "      <td>...</td>\n",
       "      <td>...</td>\n",
       "      <td>...</td>\n",
       "    </tr>\n",
       "    <tr>\n",
       "      <th>193112</th>\n",
       "      <td>1097558</td>\n",
       "      <td>12192</td>\n",
       "      <td>6</td>\n",
       "    </tr>\n",
       "    <tr>\n",
       "      <th>193112</th>\n",
       "      <td>1097558</td>\n",
       "      <td>14488</td>\n",
       "      <td>7</td>\n",
       "    </tr>\n",
       "    <tr>\n",
       "      <th>193112</th>\n",
       "      <td>1097558</td>\n",
       "      <td>4151</td>\n",
       "      <td>8</td>\n",
       "    </tr>\n",
       "    <tr>\n",
       "      <th>193112</th>\n",
       "      <td>1097558</td>\n",
       "      <td>341</td>\n",
       "      <td>9</td>\n",
       "    </tr>\n",
       "    <tr>\n",
       "      <th>193112</th>\n",
       "      <td>1097558</td>\n",
       "      <td>512</td>\n",
       "      <td>10</td>\n",
       "    </tr>\n",
       "  </tbody>\n",
       "</table>\n",
       "<p>1931130 rows × 3 columns</p>\n",
       "</div>"
      ],
      "text/plain": [
       "        user_id item_id  rank\n",
       "0             3    9728     1\n",
       "0             3   10440     2\n",
       "0             3   15297     3\n",
       "0             3   13865     4\n",
       "0             3   12360     5\n",
       "...         ...     ...   ...\n",
       "193112  1097558   12192     6\n",
       "193112  1097558   14488     7\n",
       "193112  1097558    4151     8\n",
       "193112  1097558     341     9\n",
       "193112  1097558     512    10\n",
       "\n",
       "[1931130 rows x 3 columns]"
      ]
     },
     "execution_count": 139,
     "metadata": {},
     "output_type": "execute_result"
    }
   ],
   "source": [
    "recs"
   ]
  },
  {
   "cell_type": "code",
   "execution_count": 91,
   "id": "e3bec75d",
   "metadata": {
    "id": "bbbtQe4X-3QQ"
   },
   "outputs": [],
   "source": [
    "recs_pop = recs[~recs['user_id'].isin(df_dssm_subm['user_id'].tolist())]"
   ]
  },
  {
   "cell_type": "code",
   "execution_count": 107,
   "id": "a700c183",
   "metadata": {
    "id": "ncr6WDIE_lBK"
   },
   "outputs": [],
   "source": [
    "recs_all = pd.concat([recs_pop, df_dssm_subm], axis = 0)"
   ]
  },
  {
   "cell_type": "code",
   "execution_count": 108,
   "id": "89bcfa99",
   "metadata": {
    "colab": {
     "base_uri": "https://localhost:8080/"
    },
    "id": "mLtRNPUx_xB8",
    "outputId": "55a8379e-18f8-455e-bfaa-1394e2ad3d8f"
   },
   "outputs": [
    {
     "data": {
      "text/plain": [
       "(1931130, 3)"
      ]
     },
     "execution_count": 108,
     "metadata": {},
     "output_type": "execute_result"
    }
   ],
   "source": [
    "recs_all.shape"
   ]
  },
  {
   "cell_type": "code",
   "execution_count": 112,
   "id": "753c5f28",
   "metadata": {
    "colab": {
     "base_uri": "https://localhost:8080/",
     "height": 206
    },
    "id": "mMIO3Cxg_w-y",
    "outputId": "83005040-2051-4b16-828b-d11ed19b5c8e"
   },
   "outputs": [
    {
     "data": {
      "text/html": [
       "\n",
       "  <div id=\"df-0c674dde-fc43-4c7a-b055-7539455b1c18\">\n",
       "    <div class=\"colab-df-container\">\n",
       "      <div>\n",
       "<style scoped>\n",
       "    .dataframe tbody tr th:only-of-type {\n",
       "        vertical-align: middle;\n",
       "    }\n",
       "\n",
       "    .dataframe tbody tr th {\n",
       "        vertical-align: top;\n",
       "    }\n",
       "\n",
       "    .dataframe thead th {\n",
       "        text-align: right;\n",
       "    }\n",
       "</style>\n",
       "<table border=\"1\" class=\"dataframe\">\n",
       "  <thead>\n",
       "    <tr style=\"text-align: right;\">\n",
       "      <th></th>\n",
       "      <th>user_id</th>\n",
       "      <th>item_id</th>\n",
       "      <th>rank</th>\n",
       "    </tr>\n",
       "  </thead>\n",
       "  <tbody>\n",
       "    <tr>\n",
       "      <th>0</th>\n",
       "      <td>3</td>\n",
       "      <td>9728</td>\n",
       "      <td>1</td>\n",
       "    </tr>\n",
       "    <tr>\n",
       "      <th>0</th>\n",
       "      <td>3</td>\n",
       "      <td>10440</td>\n",
       "      <td>2</td>\n",
       "    </tr>\n",
       "    <tr>\n",
       "      <th>0</th>\n",
       "      <td>3</td>\n",
       "      <td>15297</td>\n",
       "      <td>3</td>\n",
       "    </tr>\n",
       "    <tr>\n",
       "      <th>0</th>\n",
       "      <td>3</td>\n",
       "      <td>13865</td>\n",
       "      <td>4</td>\n",
       "    </tr>\n",
       "    <tr>\n",
       "      <th>0</th>\n",
       "      <td>3</td>\n",
       "      <td>12360</td>\n",
       "      <td>5</td>\n",
       "    </tr>\n",
       "  </tbody>\n",
       "</table>\n",
       "</div>\n",
       "      <button class=\"colab-df-convert\" onclick=\"convertToInteractive('df-0c674dde-fc43-4c7a-b055-7539455b1c18')\"\n",
       "              title=\"Convert this dataframe to an interactive table.\"\n",
       "              style=\"display:none;\">\n",
       "        \n",
       "  <svg xmlns=\"http://www.w3.org/2000/svg\" height=\"24px\"viewBox=\"0 0 24 24\"\n",
       "       width=\"24px\">\n",
       "    <path d=\"M0 0h24v24H0V0z\" fill=\"none\"/>\n",
       "    <path d=\"M18.56 5.44l.94 2.06.94-2.06 2.06-.94-2.06-.94-.94-2.06-.94 2.06-2.06.94zm-11 1L8.5 8.5l.94-2.06 2.06-.94-2.06-.94L8.5 2.5l-.94 2.06-2.06.94zm10 10l.94 2.06.94-2.06 2.06-.94-2.06-.94-.94-2.06-.94 2.06-2.06.94z\"/><path d=\"M17.41 7.96l-1.37-1.37c-.4-.4-.92-.59-1.43-.59-.52 0-1.04.2-1.43.59L10.3 9.45l-7.72 7.72c-.78.78-.78 2.05 0 2.83L4 21.41c.39.39.9.59 1.41.59.51 0 1.02-.2 1.41-.59l7.78-7.78 2.81-2.81c.8-.78.8-2.07 0-2.86zM5.41 20L4 18.59l7.72-7.72 1.47 1.35L5.41 20z\"/>\n",
       "  </svg>\n",
       "      </button>\n",
       "      \n",
       "  <style>\n",
       "    .colab-df-container {\n",
       "      display:flex;\n",
       "      flex-wrap:wrap;\n",
       "      gap: 12px;\n",
       "    }\n",
       "\n",
       "    .colab-df-convert {\n",
       "      background-color: #E8F0FE;\n",
       "      border: none;\n",
       "      border-radius: 50%;\n",
       "      cursor: pointer;\n",
       "      display: none;\n",
       "      fill: #1967D2;\n",
       "      height: 32px;\n",
       "      padding: 0 0 0 0;\n",
       "      width: 32px;\n",
       "    }\n",
       "\n",
       "    .colab-df-convert:hover {\n",
       "      background-color: #E2EBFA;\n",
       "      box-shadow: 0px 1px 2px rgba(60, 64, 67, 0.3), 0px 1px 3px 1px rgba(60, 64, 67, 0.15);\n",
       "      fill: #174EA6;\n",
       "    }\n",
       "\n",
       "    [theme=dark] .colab-df-convert {\n",
       "      background-color: #3B4455;\n",
       "      fill: #D2E3FC;\n",
       "    }\n",
       "\n",
       "    [theme=dark] .colab-df-convert:hover {\n",
       "      background-color: #434B5C;\n",
       "      box-shadow: 0px 1px 3px 1px rgba(0, 0, 0, 0.15);\n",
       "      filter: drop-shadow(0px 1px 2px rgba(0, 0, 0, 0.3));\n",
       "      fill: #FFFFFF;\n",
       "    }\n",
       "  </style>\n",
       "\n",
       "      <script>\n",
       "        const buttonEl =\n",
       "          document.querySelector('#df-0c674dde-fc43-4c7a-b055-7539455b1c18 button.colab-df-convert');\n",
       "        buttonEl.style.display =\n",
       "          google.colab.kernel.accessAllowed ? 'block' : 'none';\n",
       "\n",
       "        async function convertToInteractive(key) {\n",
       "          const element = document.querySelector('#df-0c674dde-fc43-4c7a-b055-7539455b1c18');\n",
       "          const dataTable =\n",
       "            await google.colab.kernel.invokeFunction('convertToInteractive',\n",
       "                                                     [key], {});\n",
       "          if (!dataTable) return;\n",
       "\n",
       "          const docLinkHtml = 'Like what you see? Visit the ' +\n",
       "            '<a target=\"_blank\" href=https://colab.research.google.com/notebooks/data_table.ipynb>data table notebook</a>'\n",
       "            + ' to learn more about interactive tables.';\n",
       "          element.innerHTML = '';\n",
       "          dataTable['output_type'] = 'display_data';\n",
       "          await google.colab.output.renderOutput(dataTable, element);\n",
       "          const docLink = document.createElement('div');\n",
       "          docLink.innerHTML = docLinkHtml;\n",
       "          element.appendChild(docLink);\n",
       "        }\n",
       "      </script>\n",
       "    </div>\n",
       "  </div>\n",
       "  "
      ],
      "text/plain": [
       "   user_id item_id  rank\n",
       "0        3    9728     1\n",
       "0        3   10440     2\n",
       "0        3   15297     3\n",
       "0        3   13865     4\n",
       "0        3   12360     5"
      ]
     },
     "execution_count": 112,
     "metadata": {},
     "output_type": "execute_result"
    }
   ],
   "source": [
    "recs_all.head()"
   ]
  }
 ],
 "metadata": {
  "colab": {
   "collapsed_sections": [
    "8bcc3e80",
    "8c284190",
    "fcdd65bb",
    "a86927cb"
   ],
   "provenance": []
  },
  "kaggle": {
   "accelerator": "gpu",
   "dataSources": [
    {
     "datasetId": 1853768,
     "sourceId": 3026695,
     "sourceType": "datasetVersion"
    },
    {
     "datasetId": 4148638,
     "sourceId": 7178361,
     "sourceType": "datasetVersion"
    }
   ],
   "dockerImageVersionId": 30616,
   "isGpuEnabled": true,
   "isInternetEnabled": true,
   "language": "python",
   "sourceType": "notebook"
  },
  "kernelspec": {
   "display_name": "Python 3 (ipykernel)",
   "language": "python",
   "name": "python3"
  },
  "language_info": {
   "codemirror_mode": {
    "name": "ipython",
    "version": 3
   },
   "file_extension": ".py",
   "mimetype": "text/x-python",
   "name": "python",
   "nbconvert_exporter": "python",
   "pygments_lexer": "ipython3",
   "version": "3.10.9"
  }
 },
 "nbformat": 4,
 "nbformat_minor": 5
}
