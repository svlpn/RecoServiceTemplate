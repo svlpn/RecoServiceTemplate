{
 "cells": [
  {
   "cell_type": "code",
   "execution_count": 1,
   "id": "72b639c5",
   "metadata": {
    "execution": {
     "iopub.execute_input": "2023-12-12T17:52:36.548409Z",
     "iopub.status.busy": "2023-12-12T17:52:36.548053Z",
     "iopub.status.idle": "2023-12-12T17:52:36.924300Z",
     "shell.execute_reply": "2023-12-12T17:52:36.923301Z",
     "shell.execute_reply.started": "2023-12-12T17:52:36.548376Z"
    }
   },
   "outputs": [],
   "source": [
    "import numpy as np\n",
    "import os\n",
    "import pandas as pd"
   ]
  },
  {
   "cell_type": "code",
   "execution_count": 2,
   "id": "b4e78d63",
   "metadata": {
    "execution": {
     "iopub.execute_input": "2023-12-12T17:54:01.734868Z",
     "iopub.status.busy": "2023-12-12T17:54:01.733992Z",
     "iopub.status.idle": "2023-12-12T17:54:05.444840Z",
     "shell.execute_reply": "2023-12-12T17:54:05.443852Z",
     "shell.execute_reply.started": "2023-12-12T17:54:01.734831Z"
    }
   },
   "outputs": [
    {
     "name": "stderr",
     "output_type": "stream",
     "text": [
      "/opt/conda/lib/python3.10/site-packages/scipy/__init__.py:146: UserWarning: A NumPy version >=1.16.5 and <1.23.0 is required for this version of SciPy (detected version 1.24.3\n",
      "  warnings.warn(f\"A NumPy version >={np_minversion} and <{np_maxversion}\"\n"
     ]
    }
   ],
   "source": [
    "from IPython.display import display, clear_output\n",
    "\n",
    "import numpy as np\n",
    "import pandas as pd\n",
    "from tqdm.notebook import tqdm\n",
    "from sklearn.model_selection import train_test_split\n",
    "from sklearn.preprocessing import StandardScaler\n",
    "\n",
    "import torch\n",
    "from torch import nn\n",
    "from torch.nn import functional as F\n",
    "from torch.utils.data import Dataset, DataLoader"
   ]
  },
  {
   "cell_type": "code",
   "execution_count": null,
   "id": "c86b6221",
   "metadata": {},
   "outputs": [],
   "source": []
  },
  {
   "cell_type": "code",
   "execution_count": 3,
   "id": "ba5a0777",
   "metadata": {
    "execution": {
     "iopub.execute_input": "2023-12-12T17:54:15.029726Z",
     "iopub.status.busy": "2023-12-12T17:54:15.029201Z",
     "iopub.status.idle": "2023-12-12T17:54:21.941694Z",
     "shell.execute_reply": "2023-12-12T17:54:21.940620Z",
     "shell.execute_reply.started": "2023-12-12T17:54:15.029691Z"
    }
   },
   "outputs": [],
   "source": [
    "interactions_df = pd.read_csv('/kaggle/input/processed/interactions_processed_kion.csv')\n",
    "users_df = pd.read_csv('/kaggle/input/processed/users_processed_kion.csv')\n",
    "items_df = pd.read_csv('/kaggle/input/processed/items_processed_kion.csv')"
   ]
  },
  {
   "cell_type": "code",
   "execution_count": 4,
   "id": "a025aa3b",
   "metadata": {
    "execution": {
     "iopub.execute_input": "2023-12-12T17:54:24.259703Z",
     "iopub.status.busy": "2023-12-12T17:54:24.258806Z",
     "iopub.status.idle": "2023-12-12T17:54:24.276233Z",
     "shell.execute_reply": "2023-12-12T17:54:24.275286Z",
     "shell.execute_reply.started": "2023-12-12T17:54:24.259667Z"
    }
   },
   "outputs": [
    {
     "data": {
      "text/html": [
       "<div>\n",
       "<style scoped>\n",
       "    .dataframe tbody tr th:only-of-type {\n",
       "        vertical-align: middle;\n",
       "    }\n",
       "\n",
       "    .dataframe tbody tr th {\n",
       "        vertical-align: top;\n",
       "    }\n",
       "\n",
       "    .dataframe thead th {\n",
       "        text-align: right;\n",
       "    }\n",
       "</style>\n",
       "<table border=\"1\" class=\"dataframe\">\n",
       "  <thead>\n",
       "    <tr style=\"text-align: right;\">\n",
       "      <th></th>\n",
       "      <th>user_id</th>\n",
       "      <th>item_id</th>\n",
       "      <th>last_watch_dt</th>\n",
       "      <th>total_dur</th>\n",
       "      <th>watched_pct</th>\n",
       "    </tr>\n",
       "  </thead>\n",
       "  <tbody>\n",
       "    <tr>\n",
       "      <th>0</th>\n",
       "      <td>176549</td>\n",
       "      <td>9506</td>\n",
       "      <td>2021-05-11</td>\n",
       "      <td>4250</td>\n",
       "      <td>72</td>\n",
       "    </tr>\n",
       "    <tr>\n",
       "      <th>1</th>\n",
       "      <td>699317</td>\n",
       "      <td>1659</td>\n",
       "      <td>2021-05-29</td>\n",
       "      <td>8317</td>\n",
       "      <td>100</td>\n",
       "    </tr>\n",
       "    <tr>\n",
       "      <th>2</th>\n",
       "      <td>656683</td>\n",
       "      <td>7107</td>\n",
       "      <td>2021-05-09</td>\n",
       "      <td>10</td>\n",
       "      <td>0</td>\n",
       "    </tr>\n",
       "    <tr>\n",
       "      <th>3</th>\n",
       "      <td>864613</td>\n",
       "      <td>7638</td>\n",
       "      <td>2021-07-05</td>\n",
       "      <td>14483</td>\n",
       "      <td>100</td>\n",
       "    </tr>\n",
       "    <tr>\n",
       "      <th>4</th>\n",
       "      <td>964868</td>\n",
       "      <td>9506</td>\n",
       "      <td>2021-04-30</td>\n",
       "      <td>6725</td>\n",
       "      <td>100</td>\n",
       "    </tr>\n",
       "  </tbody>\n",
       "</table>\n",
       "</div>"
      ],
      "text/plain": [
       "   user_id  item_id last_watch_dt  total_dur  watched_pct\n",
       "0   176549     9506    2021-05-11       4250           72\n",
       "1   699317     1659    2021-05-29       8317          100\n",
       "2   656683     7107    2021-05-09         10            0\n",
       "3   864613     7638    2021-07-05      14483          100\n",
       "4   964868     9506    2021-04-30       6725          100"
      ]
     },
     "execution_count": 4,
     "metadata": {},
     "output_type": "execute_result"
    }
   ],
   "source": [
    "interactions_df.head()"
   ]
  },
  {
   "cell_type": "code",
   "execution_count": 5,
   "id": "85a5c4bd",
   "metadata": {
    "execution": {
     "iopub.execute_input": "2023-12-12T17:54:25.419368Z",
     "iopub.status.busy": "2023-12-12T17:54:25.419022Z",
     "iopub.status.idle": "2023-12-12T17:54:26.139639Z",
     "shell.execute_reply": "2023-12-12T17:54:26.138626Z",
     "shell.execute_reply.started": "2023-12-12T17:54:25.419342Z"
    }
   },
   "outputs": [],
   "source": [
    "interactions_df = interactions_df[interactions_df['last_watch_dt'] < '2021-04-01']"
   ]
  },
  {
   "cell_type": "code",
   "execution_count": 6,
   "id": "b167b558",
   "metadata": {
    "execution": {
     "iopub.execute_input": "2023-12-12T17:54:26.141532Z",
     "iopub.status.busy": "2023-12-12T17:54:26.141201Z",
     "iopub.status.idle": "2023-12-12T17:54:26.147548Z",
     "shell.execute_reply": "2023-12-12T17:54:26.146639Z",
     "shell.execute_reply.started": "2023-12-12T17:54:26.141505Z"
    }
   },
   "outputs": [
    {
     "data": {
      "text/plain": [
       "(263874, 5)"
      ]
     },
     "execution_count": 6,
     "metadata": {},
     "output_type": "execute_result"
    }
   ],
   "source": [
    "interactions_df.shape"
   ]
  },
  {
   "cell_type": "code",
   "execution_count": 7,
   "id": "ac62c215",
   "metadata": {
    "execution": {
     "iopub.execute_input": "2023-12-12T17:54:27.571130Z",
     "iopub.status.busy": "2023-12-12T17:54:27.570405Z",
     "iopub.status.idle": "2023-12-12T17:54:27.698152Z",
     "shell.execute_reply": "2023-12-12T17:54:27.697242Z",
     "shell.execute_reply.started": "2023-12-12T17:54:27.571093Z"
    }
   },
   "outputs": [
    {
     "name": "stdout",
     "output_type": "stream",
     "text": [
      "# users: 86614\n",
      "# users with at least 5 interactions: 14563\n"
     ]
    }
   ],
   "source": [
    "users_interactions_count_df = interactions_df.groupby(['user_id', 'item_id']).size().groupby('user_id').size()\n",
    "print('# users: %d' % len(users_interactions_count_df))\n",
    "users_with_enough_interactions_df = users_interactions_count_df[users_interactions_count_df >= 5].reset_index()[['user_id']]\n",
    "print('# users with at least 5 interactions: %d' % len(users_with_enough_interactions_df))"
   ]
  },
  {
   "cell_type": "code",
   "execution_count": 8,
   "id": "ab776ad6",
   "metadata": {
    "execution": {
     "iopub.execute_input": "2023-12-12T17:54:27.979469Z",
     "iopub.status.busy": "2023-12-12T17:54:27.978708Z",
     "iopub.status.idle": "2023-12-12T17:54:28.030333Z",
     "shell.execute_reply": "2023-12-12T17:54:28.029300Z",
     "shell.execute_reply.started": "2023-12-12T17:54:27.979436Z"
    }
   },
   "outputs": [
    {
     "name": "stdout",
     "output_type": "stream",
     "text": [
      "# of interactions: 263874\n",
      "# of interactions from users with at least 5 interactions: 142670\n"
     ]
    }
   ],
   "source": [
    "print('# of interactions: %d' % len(interactions_df))\n",
    "interactions_from_selected_users_df = interactions_df.merge(users_with_enough_interactions_df, \n",
    "               how = 'right',\n",
    "               left_on = 'user_id',\n",
    "               right_on = 'user_id')\n",
    "print('# of interactions from users with at least 5 interactions: %d' % len(interactions_from_selected_users_df))"
   ]
  },
  {
   "cell_type": "code",
   "execution_count": 9,
   "id": "ad989b0e",
   "metadata": {
    "execution": {
     "iopub.execute_input": "2023-12-12T17:54:28.418794Z",
     "iopub.status.busy": "2023-12-12T17:54:28.418440Z",
     "iopub.status.idle": "2023-12-12T17:54:28.423129Z",
     "shell.execute_reply": "2023-12-12T17:54:28.422130Z",
     "shell.execute_reply.started": "2023-12-12T17:54:28.418762Z"
    }
   },
   "outputs": [],
   "source": [
    "import math"
   ]
  },
  {
   "cell_type": "code",
   "execution_count": 10,
   "id": "4b382802",
   "metadata": {
    "execution": {
     "iopub.execute_input": "2023-12-12T17:54:28.704403Z",
     "iopub.status.busy": "2023-12-12T17:54:28.703509Z",
     "iopub.status.idle": "2023-12-12T17:54:28.849485Z",
     "shell.execute_reply": "2023-12-12T17:54:28.848581Z",
     "shell.execute_reply.started": "2023-12-12T17:54:28.704369Z"
    }
   },
   "outputs": [
    {
     "name": "stdout",
     "output_type": "stream",
     "text": [
      "# of unique user/item interactions: 142670\n"
     ]
    },
    {
     "data": {
      "text/html": [
       "<div>\n",
       "<style scoped>\n",
       "    .dataframe tbody tr th:only-of-type {\n",
       "        vertical-align: middle;\n",
       "    }\n",
       "\n",
       "    .dataframe tbody tr th {\n",
       "        vertical-align: top;\n",
       "    }\n",
       "\n",
       "    .dataframe thead th {\n",
       "        text-align: right;\n",
       "    }\n",
       "</style>\n",
       "<table border=\"1\" class=\"dataframe\">\n",
       "  <thead>\n",
       "    <tr style=\"text-align: right;\">\n",
       "      <th></th>\n",
       "      <th>user_id</th>\n",
       "      <th>item_id</th>\n",
       "      <th>watched_pct</th>\n",
       "    </tr>\n",
       "  </thead>\n",
       "  <tbody>\n",
       "    <tr>\n",
       "      <th>0</th>\n",
       "      <td>21</td>\n",
       "      <td>849</td>\n",
       "      <td>6.375039</td>\n",
       "    </tr>\n",
       "    <tr>\n",
       "      <th>1</th>\n",
       "      <td>21</td>\n",
       "      <td>4345</td>\n",
       "      <td>6.658211</td>\n",
       "    </tr>\n",
       "    <tr>\n",
       "      <th>2</th>\n",
       "      <td>21</td>\n",
       "      <td>10283</td>\n",
       "      <td>6.658211</td>\n",
       "    </tr>\n",
       "    <tr>\n",
       "      <th>3</th>\n",
       "      <td>21</td>\n",
       "      <td>12261</td>\n",
       "      <td>6.658211</td>\n",
       "    </tr>\n",
       "    <tr>\n",
       "      <th>4</th>\n",
       "      <td>21</td>\n",
       "      <td>15997</td>\n",
       "      <td>6.658211</td>\n",
       "    </tr>\n",
       "    <tr>\n",
       "      <th>5</th>\n",
       "      <td>32</td>\n",
       "      <td>952</td>\n",
       "      <td>6.044394</td>\n",
       "    </tr>\n",
       "    <tr>\n",
       "      <th>6</th>\n",
       "      <td>32</td>\n",
       "      <td>4382</td>\n",
       "      <td>4.954196</td>\n",
       "    </tr>\n",
       "    <tr>\n",
       "      <th>7</th>\n",
       "      <td>32</td>\n",
       "      <td>4807</td>\n",
       "      <td>6.658211</td>\n",
       "    </tr>\n",
       "    <tr>\n",
       "      <th>8</th>\n",
       "      <td>32</td>\n",
       "      <td>10436</td>\n",
       "      <td>6.658211</td>\n",
       "    </tr>\n",
       "    <tr>\n",
       "      <th>9</th>\n",
       "      <td>32</td>\n",
       "      <td>12132</td>\n",
       "      <td>6.658211</td>\n",
       "    </tr>\n",
       "  </tbody>\n",
       "</table>\n",
       "</div>"
      ],
      "text/plain": [
       "   user_id  item_id  watched_pct\n",
       "0       21      849     6.375039\n",
       "1       21     4345     6.658211\n",
       "2       21    10283     6.658211\n",
       "3       21    12261     6.658211\n",
       "4       21    15997     6.658211\n",
       "5       32      952     6.044394\n",
       "6       32     4382     4.954196\n",
       "7       32     4807     6.658211\n",
       "8       32    10436     6.658211\n",
       "9       32    12132     6.658211"
      ]
     },
     "execution_count": 10,
     "metadata": {},
     "output_type": "execute_result"
    }
   ],
   "source": [
    "def smooth_user_preference(x):\n",
    "    return math.log(1+x, 2)\n",
    "    \n",
    "interactions_full_df = interactions_from_selected_users_df \\\n",
    "                    .groupby(['user_id', 'item_id'])['watched_pct'].sum() \\\n",
    "                    .apply(smooth_user_preference).reset_index()\n",
    "print('# of unique user/item interactions: %d' % len(interactions_full_df))\n",
    "interactions_full_df.head(10)"
   ]
  },
  {
   "cell_type": "code",
   "execution_count": 11,
   "id": "df770935",
   "metadata": {
    "execution": {
     "iopub.execute_input": "2023-12-12T17:54:29.836922Z",
     "iopub.status.busy": "2023-12-12T17:54:29.836530Z",
     "iopub.status.idle": "2023-12-12T17:54:30.092107Z",
     "shell.execute_reply": "2023-12-12T17:54:30.091042Z",
     "shell.execute_reply.started": "2023-12-12T17:54:29.836892Z"
    }
   },
   "outputs": [
    {
     "name": "stderr",
     "output_type": "stream",
     "text": [
      "/opt/conda/lib/python3.10/site-packages/sklearn/utils/validation.py:605: FutureWarning: is_sparse is deprecated and will be removed in a future version. Check `isinstance(dtype, pd.SparseDtype)` instead.\n",
      "  if is_sparse(pd_dtype):\n",
      "/opt/conda/lib/python3.10/site-packages/sklearn/utils/validation.py:614: FutureWarning: is_sparse is deprecated and will be removed in a future version. Check `isinstance(dtype, pd.SparseDtype)` instead.\n",
      "  if is_sparse(pd_dtype) or not is_extension_array_dtype(pd_dtype):\n"
     ]
    },
    {
     "name": "stdout",
     "output_type": "stream",
     "text": [
      "# interactions on Train set: 114136\n",
      "# interactions on Test set: 28534\n"
     ]
    }
   ],
   "source": [
    "interactions_train_df, interactions_test_df = train_test_split(interactions_full_df,\n",
    "                                   stratify=interactions_full_df['user_id'], \n",
    "                                   test_size=0.20,\n",
    "                                   random_state=42)\n",
    "\n",
    "print('# interactions on Train set: %d' % len(interactions_train_df))\n",
    "print('# interactions on Test set: %d' % len(interactions_test_df))"
   ]
  },
  {
   "cell_type": "code",
   "execution_count": 12,
   "id": "5c2c48f4",
   "metadata": {
    "execution": {
     "iopub.execute_input": "2023-12-12T17:54:30.200284Z",
     "iopub.status.busy": "2023-12-12T17:54:30.199421Z",
     "iopub.status.idle": "2023-12-12T17:54:30.209523Z",
     "shell.execute_reply": "2023-12-12T17:54:30.208619Z",
     "shell.execute_reply.started": "2023-12-12T17:54:30.200249Z"
    }
   },
   "outputs": [],
   "source": [
    "\n",
    "#Indexing by personId to speed up the searches during evaluation\n",
    "interactions_full_indexed_df = interactions_full_df.set_index('user_id')\n",
    "interactions_train_indexed_df = interactions_train_df.set_index('user_id')\n",
    "interactions_test_indexed_df = interactions_test_df.set_index('user_id')"
   ]
  },
  {
   "cell_type": "code",
   "execution_count": 13,
   "id": "5b9ee1be",
   "metadata": {
    "execution": {
     "iopub.execute_input": "2023-12-12T17:54:30.571244Z",
     "iopub.status.busy": "2023-12-12T17:54:30.570853Z",
     "iopub.status.idle": "2023-12-12T17:54:30.576585Z",
     "shell.execute_reply": "2023-12-12T17:54:30.575641Z",
     "shell.execute_reply.started": "2023-12-12T17:54:30.571213Z"
    }
   },
   "outputs": [],
   "source": [
    "def get_items_interacted(person_id, interactions_df):\n",
    "    # Get the user's data and merge in the movie information.\n",
    "    interacted_items = interactions_df.loc[person_id]['item_id']\n",
    "    return set(interacted_items if type(interacted_items) == pd.Series else [interacted_items])"
   ]
  },
  {
   "cell_type": "code",
   "execution_count": 14,
   "id": "143098c5",
   "metadata": {
    "execution": {
     "iopub.execute_input": "2023-12-12T17:54:31.161845Z",
     "iopub.status.busy": "2023-12-12T17:54:31.161199Z",
     "iopub.status.idle": "2023-12-12T17:54:31.179431Z",
     "shell.execute_reply": "2023-12-12T17:54:31.178515Z",
     "shell.execute_reply.started": "2023-12-12T17:54:31.161807Z"
    }
   },
   "outputs": [],
   "source": [
    "#Top-N accuracy metrics consts\n",
    "EVAL_RANDOM_SAMPLE_NON_INTERACTED_ITEMS = 100\n",
    "\n",
    "class ModelEvaluator:\n",
    "\n",
    "\n",
    "    def get_not_interacted_items_sample(self, person_id, sample_size, seed=42):\n",
    "        interacted_items = get_items_interacted(person_id, interactions_full_indexed_df)\n",
    "        all_items = set(articles_df['item_id'])\n",
    "        non_interacted_items = all_items - interacted_items\n",
    "\n",
    "        random.seed(seed)\n",
    "        non_interacted_items_sample = random.sample(non_interacted_items, sample_size)\n",
    "        return set(non_interacted_items_sample)\n",
    "\n",
    "    def _verify_hit_top_n(self, item_id, recommended_items, topn):        \n",
    "            try:\n",
    "                index = next(i for i, c in enumerate(recommended_items) if c == item_id)\n",
    "            except:\n",
    "                index = -1\n",
    "            hit = int(index in range(0, topn))\n",
    "            return hit, index\n",
    "\n",
    "    def evaluate_model_for_user(self, model, person_id):\n",
    "        #Getting the items in test set\n",
    "        interacted_values_testset = interactions_test_indexed_df.loc[person_id]\n",
    "        if type(interacted_values_testset['item_id']) == pd.Series:\n",
    "            person_interacted_items_testset = set(interacted_values_testset['item_id'])\n",
    "        else:\n",
    "            person_interacted_items_testset = set([int(interacted_values_testset['item_id'])])  \n",
    "        interacted_items_count_testset = len(person_interacted_items_testset) \n",
    "\n",
    "        #Getting a ranked recommendation list from a model for a given user\n",
    "        person_recs_df = model.recommend_items(person_id, \n",
    "                                               items_to_ignore=get_items_interacted(person_id, \n",
    "                                                                                    interactions_train_indexed_df), \n",
    "                                               topn=10000000000)\n",
    "\n",
    "        hits_at_5_count = 0\n",
    "        hits_at_10_count = 0\n",
    "        #For each item the user has interacted in test set\n",
    "        for item_id in person_interacted_items_testset:\n",
    "            #Getting a random sample (100) items the user has not interacted \n",
    "            #(to represent items that are assumed to be no relevant to the user)\n",
    "            non_interacted_items_sample = self.get_not_interacted_items_sample(person_id, \n",
    "                                                                          sample_size=EVAL_RANDOM_SAMPLE_NON_INTERACTED_ITEMS, \n",
    "                                                                          seed=item_id%(2**32))\n",
    "\n",
    "            #Combining the current interacted item with the 100 random items\n",
    "            items_to_filter_recs = non_interacted_items_sample.union(set([item_id]))\n",
    "\n",
    "            #Filtering only recommendations that are either the interacted item or from a random sample of 100 non-interacted items\n",
    "            valid_recs_df = person_recs_df[person_recs_df['item_id'].isin(items_to_filter_recs)]                    \n",
    "            valid_recs = valid_recs_df['item_id'].values\n",
    "            #Verifying if the current interacted item is among the Top-N recommended items\n",
    "            hit_at_5, index_at_5 = self._verify_hit_top_n(item_id, valid_recs, 5)\n",
    "            hits_at_5_count += hit_at_5\n",
    "            hit_at_10, index_at_10 = self._verify_hit_top_n(item_id, valid_recs, 10)\n",
    "            hits_at_10_count += hit_at_10\n",
    "\n",
    "        #Recall is the rate of the interacted items that are ranked among the Top-N recommended items, \n",
    "        #when mixed with a set of non-relevant items\n",
    "        recall_at_5 = hits_at_5_count / float(interacted_items_count_testset)\n",
    "        recall_at_10 = hits_at_10_count / float(interacted_items_count_testset)\n",
    "\n",
    "        person_metrics = {'hits@5_count':hits_at_5_count, \n",
    "                          'hits@10_count':hits_at_10_count, \n",
    "                          'interacted_count': interacted_items_count_testset,\n",
    "                          'recall@5': recall_at_5,\n",
    "                          'recall@10': recall_at_10}\n",
    "        return person_metrics\n",
    "\n",
    "    def evaluate_model(self, model):\n",
    "        #print('Running evaluation for users')\n",
    "        people_metrics = []\n",
    "        for idx, person_id in enumerate(tqdm(list(interactions_test_indexed_df.index.unique().values))):\n",
    "            #if idx % 100 == 0 and idx > 0:\n",
    "            #    print('%d users processed' % idx)\n",
    "            person_metrics = self.evaluate_model_for_user(model, person_id)  \n",
    "            person_metrics['user_id'] = person_id\n",
    "            people_metrics.append(person_metrics)\n",
    "        print('%d users processed' % idx)\n",
    "\n",
    "        detailed_results_df = pd.DataFrame(people_metrics) \\\n",
    "                            .sort_values('interacted_count', ascending=False)\n",
    "        \n",
    "        global_recall_at_5 = detailed_results_df['hits@5_count'].sum() / float(detailed_results_df['interacted_count'].sum())\n",
    "        global_recall_at_10 = detailed_results_df['hits@10_count'].sum() / float(detailed_results_df['interacted_count'].sum())\n",
    "        \n",
    "        global_metrics = {'modelName': model.get_model_name(),\n",
    "                          'recall@5': global_recall_at_5,\n",
    "                          'recall@10': global_recall_at_10}    \n",
    "        return global_metrics, detailed_results_df\n",
    "    \n",
    "model_evaluator = ModelEvaluator()    "
   ]
  },
  {
   "cell_type": "code",
   "execution_count": 15,
   "id": "25ec0881",
   "metadata": {
    "execution": {
     "iopub.execute_input": "2023-12-12T17:54:32.219928Z",
     "iopub.status.busy": "2023-12-12T17:54:32.219244Z",
     "iopub.status.idle": "2023-12-12T17:54:32.225202Z",
     "shell.execute_reply": "2023-12-12T17:54:32.224219Z",
     "shell.execute_reply.started": "2023-12-12T17:54:32.219894Z"
    }
   },
   "outputs": [],
   "source": [
    "\n",
    "from IPython.display import display, clear_output\n",
    "\n",
    "import numpy as np\n",
    "import pandas as pd\n",
    "from tqdm.notebook import tqdm\n",
    "from sklearn.model_selection import train_test_split\n",
    "from sklearn.preprocessing import StandardScaler\n",
    "\n",
    "import torch\n",
    "from torch import nn\n",
    "from torch.nn import functional as F\n",
    "from torch.utils.data import Dataset, DataLoader"
   ]
  },
  {
   "cell_type": "code",
   "execution_count": 16,
   "id": "d1cbcb65",
   "metadata": {
    "execution": {
     "iopub.execute_input": "2023-12-12T17:54:32.729438Z",
     "iopub.status.busy": "2023-12-12T17:54:32.729104Z",
     "iopub.status.idle": "2023-12-12T17:54:32.734816Z",
     "shell.execute_reply": "2023-12-12T17:54:32.733925Z",
     "shell.execute_reply.started": "2023-12-12T17:54:32.729408Z"
    }
   },
   "outputs": [],
   "source": [
    "\n",
    "# Constants\n",
    "SEED = 42 # random seed for reproducibility\n",
    "LR = 1e-3 # learning rate, controls the speed of the training\n",
    "WEIGHT_DECAY = 0.01 # lambda for L2 reg. ()\n",
    "NUM_EPOCHS = 200 # num training epochs (how many times each instance will be processed)\n",
    "GAMMA = 0.9995 # learning rate scheduler parameter\n",
    "BATCH_SIZE = 3000 # training batch size\n",
    "EVAL_BATCH_SIZE = 3000 # evaluation batch size.\n",
    "DEVICE = 'cuda' #'cuda' # device to make the calculations on"
   ]
  },
  {
   "cell_type": "code",
   "execution_count": 17,
   "id": "71de2d51",
   "metadata": {
    "execution": {
     "iopub.execute_input": "2023-12-12T17:54:33.068567Z",
     "iopub.status.busy": "2023-12-12T17:54:33.067410Z",
     "iopub.status.idle": "2023-12-12T17:54:33.082761Z",
     "shell.execute_reply": "2023-12-12T17:54:33.081792Z",
     "shell.execute_reply.started": "2023-12-12T17:54:33.068531Z"
    }
   },
   "outputs": [],
   "source": [
    "\n",
    "total_df = pd.concat([interactions_train_df, interactions_test_indexed_df.reset_index()], ignore_index=True)\n",
    "total_df['user_id'], users_keys = total_df.user_id.factorize()\n",
    "total_df['item_id'], items_keys = total_df.item_id.factorize()\n",
    "\n",
    "train_encoded = total_df.iloc[:len(interactions_train_df)].values\n",
    "test_encoded = total_df.iloc[len(interactions_train_df):].values"
   ]
  },
  {
   "cell_type": "code",
   "execution_count": 18,
   "id": "7b9ae1ae",
   "metadata": {
    "execution": {
     "iopub.execute_input": "2023-12-12T17:54:33.657344Z",
     "iopub.status.busy": "2023-12-12T17:54:33.656475Z",
     "iopub.status.idle": "2023-12-12T17:54:34.085446Z",
     "shell.execute_reply": "2023-12-12T17:54:34.084279Z",
     "shell.execute_reply.started": "2023-12-12T17:54:33.657310Z"
    }
   },
   "outputs": [],
   "source": [
    "from scipy.sparse import csr_matrix\n",
    "shape = [int(total_df['user_id'].max()+1), int(total_df['item_id'].max()+1)]\n",
    "X_train = csr_matrix((train_encoded[:, 2], (train_encoded[:, 0], train_encoded[:, 1])), shape=shape).toarray()\n",
    "X_test = csr_matrix((test_encoded[:, 2], (test_encoded[:, 0], test_encoded[:, 1])), shape=shape).toarray()"
   ]
  },
  {
   "cell_type": "code",
   "execution_count": 19,
   "id": "40ca5695",
   "metadata": {
    "execution": {
     "iopub.execute_input": "2023-12-12T17:54:34.087559Z",
     "iopub.status.busy": "2023-12-12T17:54:34.087249Z",
     "iopub.status.idle": "2023-12-12T17:54:34.093929Z",
     "shell.execute_reply": "2023-12-12T17:54:34.092812Z",
     "shell.execute_reply.started": "2023-12-12T17:54:34.087532Z"
    }
   },
   "outputs": [],
   "source": [
    "\n",
    "# Initialize the DataObject, which must return an element (features vector x and target value y)\n",
    "# for a given idx. This class must also have a length atribute\n",
    "class UserOrientedDataset(Dataset):\n",
    "    def __init__(self, X):\n",
    "        super().__init__() # to initialize the parent class\n",
    "        self.X = X.astype(np.float32)\n",
    "        self.len = len(X)\n",
    "\n",
    "    def __len__(self): # We use __func__ for implementing in-built python functions\n",
    "        return self.len\n",
    "\n",
    "    def __getitem__(self, index):\n",
    "        return self.X[index]"
   ]
  },
  {
   "cell_type": "code",
   "execution_count": 20,
   "id": "acfdd7c8",
   "metadata": {
    "execution": {
     "iopub.execute_input": "2023-12-12T17:54:34.528698Z",
     "iopub.status.busy": "2023-12-12T17:54:34.527851Z",
     "iopub.status.idle": "2023-12-12T17:54:35.302281Z",
     "shell.execute_reply": "2023-12-12T17:54:35.301322Z",
     "shell.execute_reply.started": "2023-12-12T17:54:34.528665Z"
    }
   },
   "outputs": [],
   "source": [
    "\n",
    "# Initialize DataLoaders - objects, which sample instances from DataObject-s\n",
    "train_dl = DataLoader(\n",
    "    UserOrientedDataset(X_train),\n",
    "    batch_size = BATCH_SIZE,\n",
    "    shuffle = True\n",
    ")\n",
    "\n",
    "test_dl = DataLoader(\n",
    "    UserOrientedDataset(X_test),\n",
    "    batch_size = EVAL_BATCH_SIZE,\n",
    "    shuffle = False\n",
    ")\n",
    "\n",
    "dls = {'train': train_dl, 'test': test_dl}"
   ]
  },
  {
   "cell_type": "code",
   "execution_count": 21,
   "id": "9c230e81",
   "metadata": {
    "execution": {
     "iopub.execute_input": "2023-12-12T17:54:35.304051Z",
     "iopub.status.busy": "2023-12-12T17:54:35.303753Z",
     "iopub.status.idle": "2023-12-12T17:54:35.310339Z",
     "shell.execute_reply": "2023-12-12T17:54:35.309479Z",
     "shell.execute_reply.started": "2023-12-12T17:54:35.304023Z"
    }
   },
   "outputs": [],
   "source": [
    "\n",
    "class Model(nn.Module):\n",
    "    def __init__(self, in_and_out_features = 8287):\n",
    "        super().__init__()\n",
    "        self.in_and_out_features = in_and_out_features\n",
    "        self.hidden_size = 500\n",
    "\n",
    "        self.sequential = nn.Sequential( # NN architecure, where the modules modify the data sequentially\n",
    "            nn.Linear(in_and_out_features, self.hidden_size), # Linear transformation\n",
    "            nn.ReLU(), # Activation function\n",
    "            nn.Linear(self.hidden_size, in_and_out_features) # Another Linear transformation\n",
    "        )\n",
    "\n",
    "    def forward(self, x): # In the forward function, you define how your model runs, from input to output \n",
    "        x = self.sequential(x)\n",
    "        return x"
   ]
  },
  {
   "cell_type": "code",
   "execution_count": 22,
   "id": "3fae8951",
   "metadata": {
    "execution": {
     "iopub.execute_input": "2023-12-12T17:54:36.136617Z",
     "iopub.status.busy": "2023-12-12T17:54:36.136249Z",
     "iopub.status.idle": "2023-12-12T17:54:36.233488Z",
     "shell.execute_reply": "2023-12-12T17:54:36.232665Z",
     "shell.execute_reply.started": "2023-12-12T17:54:36.136569Z"
    }
   },
   "outputs": [],
   "source": [
    "\n",
    "torch.manual_seed(SEED) # Fix random seed to have reproducible weights of model layers\n",
    "\n",
    "model = Model()\n",
    "#model.to(DEVICE)\n",
    "\n",
    "# Initialize GD method, which will update the weights of the model\n",
    "optimizer = torch.optim.AdamW(model.parameters(), lr=LR, weight_decay=WEIGHT_DECAY)\n",
    "# Initialize learning rate scheduler, which will decrease LR according to some rule\n",
    "scheduler = torch.optim.lr_scheduler.ExponentialLR(optimizer, gamma=GAMMA)\n",
    "\n",
    "def rmse_for_sparse(x_pred, x_true):\n",
    "    mask = (x_true > 0)\n",
    "    sq_diff = (x_pred * mask - x_true) ** 2\n",
    "    mse = sq_diff.sum() / mask.sum()\n",
    "    return mse ** (1/2)"
   ]
  },
  {
   "cell_type": "code",
   "execution_count": 24,
   "id": "7ae31124",
   "metadata": {
    "execution": {
     "iopub.execute_input": "2023-12-12T17:56:02.857361Z",
     "iopub.status.busy": "2023-12-12T17:56:02.856937Z",
     "iopub.status.idle": "2023-12-12T18:25:49.273436Z",
     "shell.execute_reply": "2023-12-12T18:25:49.272420Z",
     "shell.execute_reply.started": "2023-12-12T17:56:02.857326Z"
    }
   },
   "outputs": [
    {
     "data": {
      "text/html": [
       "<div>\n",
       "<style scoped>\n",
       "    .dataframe tbody tr th:only-of-type {\n",
       "        vertical-align: middle;\n",
       "    }\n",
       "\n",
       "    .dataframe tbody tr th {\n",
       "        vertical-align: top;\n",
       "    }\n",
       "\n",
       "    .dataframe thead th {\n",
       "        text-align: right;\n",
       "    }\n",
       "</style>\n",
       "<table border=\"1\" class=\"dataframe\">\n",
       "  <thead>\n",
       "    <tr style=\"text-align: right;\">\n",
       "      <th></th>\n",
       "      <th>Epoch</th>\n",
       "      <th>Train RMSE</th>\n",
       "      <th>Test RMSE</th>\n",
       "    </tr>\n",
       "  </thead>\n",
       "  <tbody>\n",
       "    <tr>\n",
       "      <th>0</th>\n",
       "      <td>0</td>\n",
       "      <td>1.742149</td>\n",
       "      <td>2.026972</td>\n",
       "    </tr>\n",
       "    <tr>\n",
       "      <th>1</th>\n",
       "      <td>1</td>\n",
       "      <td>1.642119</td>\n",
       "      <td>2.025080</td>\n",
       "    </tr>\n",
       "    <tr>\n",
       "      <th>2</th>\n",
       "      <td>2</td>\n",
       "      <td>1.592041</td>\n",
       "      <td>1.985329</td>\n",
       "    </tr>\n",
       "    <tr>\n",
       "      <th>3</th>\n",
       "      <td>3</td>\n",
       "      <td>1.520096</td>\n",
       "      <td>1.929330</td>\n",
       "    </tr>\n",
       "    <tr>\n",
       "      <th>4</th>\n",
       "      <td>4</td>\n",
       "      <td>1.467388</td>\n",
       "      <td>1.897614</td>\n",
       "    </tr>\n",
       "    <tr>\n",
       "      <th>...</th>\n",
       "      <td>...</td>\n",
       "      <td>...</td>\n",
       "      <td>...</td>\n",
       "    </tr>\n",
       "    <tr>\n",
       "      <th>195</th>\n",
       "      <td>195</td>\n",
       "      <td>0.300888</td>\n",
       "      <td>1.331006</td>\n",
       "    </tr>\n",
       "    <tr>\n",
       "      <th>196</th>\n",
       "      <td>196</td>\n",
       "      <td>0.279739</td>\n",
       "      <td>1.330737</td>\n",
       "    </tr>\n",
       "    <tr>\n",
       "      <th>197</th>\n",
       "      <td>197</td>\n",
       "      <td>0.284438</td>\n",
       "      <td>1.330888</td>\n",
       "    </tr>\n",
       "    <tr>\n",
       "      <th>198</th>\n",
       "      <td>198</td>\n",
       "      <td>0.280597</td>\n",
       "      <td>1.331152</td>\n",
       "    </tr>\n",
       "    <tr>\n",
       "      <th>199</th>\n",
       "      <td>199</td>\n",
       "      <td>0.284282</td>\n",
       "      <td>1.331282</td>\n",
       "    </tr>\n",
       "  </tbody>\n",
       "</table>\n",
       "<p>200 rows × 3 columns</p>\n",
       "</div>"
      ],
      "text/plain": [
       "     Epoch  Train RMSE  Test RMSE\n",
       "0        0    1.742149   2.026972\n",
       "1        1    1.642119   2.025080\n",
       "2        2    1.592041   1.985329\n",
       "3        3    1.520096   1.929330\n",
       "4        4    1.467388   1.897614\n",
       "..     ...         ...        ...\n",
       "195    195    0.300888   1.331006\n",
       "196    196    0.279739   1.330737\n",
       "197    197    0.284438   1.330888\n",
       "198    198    0.280597   1.331152\n",
       "199    199    0.284282   1.331282\n",
       "\n",
       "[200 rows x 3 columns]"
      ]
     },
     "metadata": {},
     "output_type": "display_data"
    },
    {
     "name": "stderr",
     "output_type": "stream",
     "text": [
      "100%|██████████| 200/200 [29:46<00:00,  8.93s/it]\n"
     ]
    }
   ],
   "source": [
    "from tqdm import tqdm\n",
    "# Training loop\n",
    "metrics_dict = {\n",
    "    \"Epoch\": [],\n",
    "    \"Train RMSE\": [],\n",
    "    \"Test RMSE\": [],\n",
    "}\n",
    "\n",
    "# Train loop\n",
    "for epoch in tqdm(range(NUM_EPOCHS)):\n",
    "    metrics_dict[\"Epoch\"].append(epoch)\n",
    "    for stage in ['train', 'test']:\n",
    "        with torch.set_grad_enabled(stage == 'train'): # Whether to start building a graph for a backward pass\n",
    "            if stage == 'train':\n",
    "                model.train() # Enable some \"special\" layers (will speak about later)\n",
    "            else:\n",
    "                model.eval() # Disable some \"special\" layers (will speak about later)\n",
    "\n",
    "            loss_at_stage = 0 \n",
    "            for batch in dls[stage]:\n",
    "                #batch = batch.to(DEVICE)\n",
    "                x_pred = model(batch) # forward pass: model(x_batch) -> calls forward()\n",
    "                loss = rmse_for_sparse(x_pred, batch) # ¡Important! y_pred is always the first arg\n",
    "                if stage == \"train\":\n",
    "                    loss.backward() # Calculate the gradients of all the parameters wrt loss\n",
    "                    optimizer.step() # Update the parameters\n",
    "                    scheduler.step()\n",
    "                    optimizer.zero_grad() # Zero the saved gradient\n",
    "                loss_at_stage += loss.item() * len(batch)\n",
    "            rmse_at_stage = (loss_at_stage / len(dls[stage].dataset)) ** (1/2)\n",
    "            metrics_dict[f\"{stage.title()} RMSE\"].append(rmse_at_stage)\n",
    "            \n",
    "    if (epoch == NUM_EPOCHS - 1) or epoch % 10 == 9:\n",
    "        clear_output(wait=True)\n",
    "        display(pd.DataFrame(metrics_dict))"
   ]
  },
  {
   "cell_type": "code",
   "execution_count": 25,
   "id": "851d98f6",
   "metadata": {
    "execution": {
     "iopub.execute_input": "2023-12-12T18:26:07.967514Z",
     "iopub.status.busy": "2023-12-12T18:26:07.966869Z",
     "iopub.status.idle": "2023-12-12T18:26:09.300617Z",
     "shell.execute_reply": "2023-12-12T18:26:09.299663Z",
     "shell.execute_reply.started": "2023-12-12T18:26:07.967475Z"
    }
   },
   "outputs": [
    {
     "data": {
      "text/plain": [
       "tensor([[ 0.2314,  2.4458,  0.9020,  ..., -0.1189, -0.1288,  0.3253],\n",
       "        [ 0.1651,  0.8747,  0.1122,  ..., -0.1023,  0.0051,  0.0343],\n",
       "        [ 0.6478,  1.4452,  0.6599,  ..., -0.2251, -0.0446,  0.0671],\n",
       "        ...,\n",
       "        [ 0.3105,  1.1061,  0.1228,  ..., -0.1251, -0.1375,  0.0611],\n",
       "        [ 0.3115,  1.8876,  0.2941,  ..., -0.1544, -0.0973, -0.0397],\n",
       "        [ 0.3379,  0.9233, -0.0919,  ..., -0.1555, -0.0372,  0.1093]])"
      ]
     },
     "execution_count": 25,
     "metadata": {},
     "output_type": "execute_result"
    }
   ],
   "source": [
    "with torch.no_grad():\n",
    "    X_pred = model(torch.Tensor(X_test))\n",
    "X_pred"
   ]
  },
  {
   "cell_type": "code",
   "execution_count": 26,
   "id": "b3f037a5",
   "metadata": {
    "execution": {
     "iopub.execute_input": "2023-12-12T18:26:12.606882Z",
     "iopub.status.busy": "2023-12-12T18:26:12.606510Z",
     "iopub.status.idle": "2023-12-12T18:26:12.617967Z",
     "shell.execute_reply": "2023-12-12T18:26:12.616978Z",
     "shell.execute_reply.started": "2023-12-12T18:26:12.606853Z"
    }
   },
   "outputs": [],
   "source": [
    "class AERecommender:\n",
    "    \n",
    "    MODEL_NAME = 'Autoencoder'\n",
    "    \n",
    "    def __init__(self, X_preds, X_train_and_val, X_test):\n",
    "\n",
    "        self.X_preds = X_preds.cpu().detach().numpy()\n",
    "        self.X_train_and_val = X_train_and_val\n",
    "        self.X_test = X_test\n",
    "        \n",
    "    def get_model_name(self):\n",
    "        return self.MODEL_NAME\n",
    "        \n",
    "    def recommend_items(self, user_id, items_to_select_idx, topn=10, verbose=False):\n",
    "        user_preds = self.X_preds[user_id][items_to_select_idx]\n",
    "        items_idx = items_to_select_idx[np.argsort(-user_preds)[:topn]]\n",
    "\n",
    "        # Recommend the highest predicted rating movies that the user hasn't seen yet.\n",
    "        return items_idx\n",
    "\n",
    "    def evaluate(self, size=100):\n",
    "\n",
    "        X_total = self.X_train_and_val + self.X_test\n",
    "\n",
    "        true_5 = []\n",
    "        true_10 = []\n",
    "\n",
    "        for user_id in range(len(X_test)):\n",
    "            non_zero = np.argwhere(self.X_test[user_id] > 0).ravel()\n",
    "            all_nonzero = np.argwhere(X_total[user_id] > 0).ravel()\n",
    "            select_from = np.setdiff1d(np.arange(X_total.shape[1]), all_nonzero)\n",
    "\n",
    "            for non_zero_idx in non_zero:\n",
    "                random_non_interacted_100_items = np.random.choice(select_from, size=20, replace=False)\n",
    "                preds = self.recommend_items(user_id, np.append(random_non_interacted_100_items, non_zero_idx), topn=10)\n",
    "                true_5.append(non_zero_idx in preds[:5])\n",
    "                true_10.append(non_zero_idx in preds)\n",
    "\n",
    "        return {\"recall@5\": np.mean(true_5), \"recall@10\": np.mean(true_10)}\n",
    "    \n",
    "ae_recommender_model = AERecommender(X_pred, X_train, X_train)"
   ]
  },
  {
   "cell_type": "code",
   "execution_count": 27,
   "id": "abdfa983",
   "metadata": {
    "execution": {
     "iopub.execute_input": "2023-12-12T18:26:14.707962Z",
     "iopub.status.busy": "2023-12-12T18:26:14.707551Z",
     "iopub.status.idle": "2023-12-12T18:26:40.996833Z",
     "shell.execute_reply": "2023-12-12T18:26:40.995880Z",
     "shell.execute_reply.started": "2023-12-12T18:26:14.707930Z"
    }
   },
   "outputs": [
    {
     "data": {
      "text/plain": [
       "{'recall@5': 0.08605810018820638, 'recall@10': 0.25072405823671096}"
      ]
     },
     "execution_count": 27,
     "metadata": {},
     "output_type": "execute_result"
    }
   ],
   "source": [
    "ae_global_metrics = ae_recommender_model.evaluate()\n",
    "ae_global_metrics"
   ]
  },
  {
   "cell_type": "code",
   "execution_count": 28,
   "id": "ea3f3334",
   "metadata": {
    "execution": {
     "iopub.execute_input": "2023-12-12T18:28:16.593997Z",
     "iopub.status.busy": "2023-12-12T18:28:16.593575Z",
     "iopub.status.idle": "2023-12-12T18:28:16.603612Z",
     "shell.execute_reply": "2023-12-12T18:28:16.602643Z",
     "shell.execute_reply.started": "2023-12-12T18:28:16.593964Z"
    }
   },
   "outputs": [],
   "source": [
    "class Model(nn.Module):\n",
    "    def __init__(self, in_and_out_features=8287):\n",
    "        super().__init__()\n",
    "        self.in_and_out_features = in_and_out_features\n",
    "\n",
    "        self.encoder = nn.Sequential(\n",
    "            nn.Linear(in_and_out_features, int(in_and_out_features / 1.5)),\n",
    "            nn.ReLU(),\n",
    "            nn.Linear(int(in_and_out_features / 1.5), int(in_and_out_features / 3)),\n",
    "            nn.ReLU(),\n",
    "            nn.Linear(int(in_and_out_features / 3), int(in_and_out_features / 6)),\n",
    "            nn.ReLU(),\n",
    "            nn.Linear(int(in_and_out_features / 6), int(in_and_out_features / 12)), \n",
    "            nn.ReLU()\n",
    "        )\n",
    "\n",
    "        self.decoder = nn.Sequential(\n",
    "            nn.Linear(int(in_and_out_features / 12), int(in_and_out_features / 6)),\n",
    "            nn.ReLU(),\n",
    "            nn.Linear(int(in_and_out_features / 6), int(in_and_out_features / 3)),\n",
    "            nn.ReLU(),\n",
    "            nn.Linear(int(in_and_out_features / 3), int(in_and_out_features / 1.5)),\n",
    "            nn.ReLU(),\n",
    "            nn.Linear(int(in_and_out_features / 1.5), in_and_out_features)\n",
    "        )\n",
    "\n",
    "    def forward(self, x):\n",
    "        x = self.encoder(x)\n",
    "        x = self.decoder(x)\n",
    "        return x\n"
   ]
  },
  {
   "cell_type": "code",
   "execution_count": 29,
   "id": "7022eadb",
   "metadata": {
    "execution": {
     "iopub.execute_input": "2023-12-12T18:28:18.437701Z",
     "iopub.status.busy": "2023-12-12T18:28:18.436694Z",
     "iopub.status.idle": "2023-12-12T18:28:19.493242Z",
     "shell.execute_reply": "2023-12-12T18:28:19.492401Z",
     "shell.execute_reply.started": "2023-12-12T18:28:18.437660Z"
    }
   },
   "outputs": [],
   "source": [
    "\n",
    "torch.manual_seed(SEED) # Fix random seed to have reproducible weights of model layers\n",
    "\n",
    "model = Model()\n",
    "#model.to(DEVICE)\n",
    "\n",
    "# Initialize GD method, which will update the weights of the model\n",
    "optimizer = torch.optim.AdamW(model.parameters(), lr=LR, weight_decay=WEIGHT_DECAY)\n",
    "# Initialize learning rate scheduler, which will decrease LR according to some rule\n",
    "scheduler = torch.optim.lr_scheduler.ExponentialLR(optimizer, gamma=GAMMA)\n",
    "\n",
    "def rmse_for_sparse(x_pred, x_true):\n",
    "    mask = (x_true > 0)\n",
    "    sq_diff = (x_pred * mask - x_true) ** 2\n",
    "    mse = sq_diff.sum() / mask.sum()\n",
    "    return mse ** (1/2)"
   ]
  },
  {
   "cell_type": "code",
   "execution_count": null,
   "id": "8ac7b102",
   "metadata": {
    "execution": {
     "iopub.execute_input": "2023-12-12T18:28:26.177848Z",
     "iopub.status.busy": "2023-12-12T18:28:26.176970Z"
    }
   },
   "outputs": [
    {
     "name": "stderr",
     "output_type": "stream",
     "text": [
      "  2%|▏         | 3/200 [04:10<4:34:37, 83.64s/it]"
     ]
    }
   ],
   "source": [
    "from tqdm import tqdm\n",
    "# Training loop\n",
    "metrics_dict = {\n",
    "    \"Epoch\": [],\n",
    "    \"Train RMSE\": [],\n",
    "    \"Test RMSE\": [],\n",
    "}\n",
    "\n",
    "# Train loop\n",
    "for epoch in tqdm(range(NUM_EPOCHS)):\n",
    "    metrics_dict[\"Epoch\"].append(epoch)\n",
    "    for stage in ['train', 'test']:\n",
    "        with torch.set_grad_enabled(stage == 'train'): # Whether to start building a graph for a backward pass\n",
    "            if stage == 'train':\n",
    "                model.train() # Enable some \"special\" layers (will speak about later)\n",
    "            else:\n",
    "                model.eval() # Disable some \"special\" layers (will speak about later)\n",
    "\n",
    "            loss_at_stage = 0 \n",
    "            for batch in dls[stage]:\n",
    "                #batch = batch.to(DEVICE)\n",
    "                x_pred = model(batch) # forward pass: model(x_batch) -> calls forward()\n",
    "                loss = rmse_for_sparse(x_pred, batch) # ¡Important! y_pred is always the first arg\n",
    "                if stage == \"train\":\n",
    "                    loss.backward() # Calculate the gradients of all the parameters wrt loss\n",
    "                    optimizer.step() # Update the parameters\n",
    "                    scheduler.step()\n",
    "                    optimizer.zero_grad() # Zero the saved gradient\n",
    "                loss_at_stage += loss.item() * len(batch)\n",
    "            rmse_at_stage = (loss_at_stage / len(dls[stage].dataset)) ** (1/2)\n",
    "            metrics_dict[f\"{stage.title()} RMSE\"].append(rmse_at_stage)\n",
    "            \n",
    "    if (epoch == NUM_EPOCHS - 1) or epoch % 10 == 9:\n",
    "        clear_output(wait=True)\n",
    "        display(pd.DataFrame(metrics_dict))"
   ]
  },
  {
   "cell_type": "code",
   "execution_count": null,
   "id": "3da508ea",
   "metadata": {},
   "outputs": [],
   "source": []
  }
 ],
 "metadata": {
  "kaggle": {
   "accelerator": "gpu",
   "dataSources": [
    {
     "datasetId": 4148638,
     "sourceId": 7178361,
     "sourceType": "datasetVersion"
    }
   ],
   "dockerImageVersionId": 30616,
   "isGpuEnabled": true,
   "isInternetEnabled": true,
   "language": "python",
   "sourceType": "notebook"
  },
  "kernelspec": {
   "display_name": "Python 3 (ipykernel)",
   "language": "python",
   "name": "python3"
  },
  "language_info": {
   "codemirror_mode": {
    "name": "ipython",
    "version": 3
   },
   "file_extension": ".py",
   "mimetype": "text/x-python",
   "name": "python",
   "nbconvert_exporter": "python",
   "pygments_lexer": "ipython3",
   "version": "3.10.9"
  }
 },
 "nbformat": 4,
 "nbformat_minor": 5
}
